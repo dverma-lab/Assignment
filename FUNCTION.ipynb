{
  "nbformat": 4,
  "nbformat_minor": 0,
  "metadata": {
    "colab": {
      "provenance": [],
      "collapsed_sections": [
        "8Pxcb5-Beflq",
        "sn_VudzXjwpj",
        "K4YeYyl0nl2y",
        "PfyARCkbzUCf",
        "-cLBwDvG6I_u",
        "dFQtPJaD7s0V",
        "074U8pbz9ND2",
        "20GQNtGAAsWS",
        "Cjvk6NNZmiNQ",
        "Ob-5xyzKAyPD",
        "7zNQRabMCnts",
        "sZxzvYF3EcXg",
        "GbqdMycIFKxD",
        "L53LXR_6GDkb",
        "pizMmmaPGuxu",
        "ft8cMpNRHbbb",
        "KcKLuKFOIGbp",
        "-l_S2ta7LUAU",
        "9KZxGkV3MDDk",
        "XSRjVToVNEu-"
      ]
    },
    "kernelspec": {
      "name": "python3",
      "display_name": "Python 3"
    },
    "language_info": {
      "name": "python"
    }
  },
  "cells": [
    {
      "cell_type": "markdown",
      "source": [
        "# What is difference b/w a function and a Method in Python ?"
      ],
      "metadata": {
        "id": "8Pxcb5-Beflq"
      }
    },
    {
      "cell_type": "markdown",
      "source": [
        "In Python, functions and methods are both blocks of reusable code, but they differ in their context and usage.\n",
        "\n",
        "1. Function\n",
        "Definition: A function is defined using the def keyword and is not tied to any particular object.\n"
      ],
      "metadata": {
        "id": "8nOS9repgtQF"
      }
    },
    {
      "cell_type": "markdown",
      "source": [
        "Example of function"
      ],
      "metadata": {
        "id": "JBoLyisCiyIi"
      }
    },
    {
      "cell_type": "code",
      "source": [
        "def greet(name):\n",
        "    return f\"Hello, {name}!\"\n",
        "\n",
        "print(greet(\"Deepak\"))"
      ],
      "metadata": {
        "colab": {
          "base_uri": "https://localhost:8080/"
        },
        "id": "r068h16MiOnj",
        "outputId": "9564c93a-232e-4464-ee54-69db07916ba2"
      },
      "execution_count": 2,
      "outputs": [
        {
          "output_type": "stream",
          "name": "stdout",
          "text": [
            "Hello, Deepak!\n"
          ]
        }
      ]
    },
    {
      "cell_type": "markdown",
      "source": [
        " METHOD\n",
        ": A method is a function that belongs to an object (usually part of a class)."
      ],
      "metadata": {
        "id": "ER7pyQk0jCMb"
      }
    },
    {
      "cell_type": "markdown",
      "source": [
        "Example of Method"
      ],
      "metadata": {
        "id": "kbhdKe1qjTT_"
      }
    },
    {
      "cell_type": "code",
      "source": [
        "class Greeter:\n",
        "    def greet(self, name):\n",
        "        return f\"Hello, {name}!\"\n",
        "\n",
        "g = Greeter()\n",
        "print(g.greet(\"Deepak\"))"
      ],
      "metadata": {
        "colab": {
          "base_uri": "https://localhost:8080/"
        },
        "id": "DaBzg1SKi3B_",
        "outputId": "b980185d-6660-478b-a670-c495fb94df9d"
      },
      "execution_count": 3,
      "outputs": [
        {
          "output_type": "stream",
          "name": "stdout",
          "text": [
            "Hello, Deepak!\n"
          ]
        }
      ]
    },
    {
      "cell_type": "markdown",
      "source": [
        "# 2) Explain the concept of function Arguments  and Parametre in Python"
      ],
      "metadata": {
        "id": "sn_VudzXjwpj"
      }
    },
    {
      "cell_type": "markdown",
      "source": [
        "In Python, arguments and parameters are related concepts used in functions, but they have distinct meanings.\n",
        "\n",
        "1. Parameters\n",
        ": Variables defined in the function signature (header) to accept input values.\n",
        "\n",
        "    Example:-"
      ],
      "metadata": {
        "id": "2Ypa6h1Nk41E"
      }
    },
    {
      "cell_type": "code",
      "source": [
        "def greet(name):  # `name` is a parameter\n",
        "    print(f\"Hello, {name}!\")\n"
      ],
      "metadata": {
        "id": "ncsjt2U9iVdb"
      },
      "execution_count": 4,
      "outputs": []
    },
    {
      "cell_type": "markdown",
      "source": [
        "Arguments\n",
        ": Actual values passed to a function when it is called.\n",
        "When: Provided during the function call.\n",
        "Purpose: Supply the specific data to the parameters for execution.\n",
        "\n",
        "Example:-"
      ],
      "metadata": {
        "id": "Je9s4q6Kl4J3"
      }
    },
    {
      "cell_type": "code",
      "source": [
        "greet(\"Deepak\")  # \"Deepak\" is an argument\n"
      ],
      "metadata": {
        "colab": {
          "base_uri": "https://localhost:8080/"
        },
        "id": "xEe3jAIblkcO",
        "outputId": "624bb302-3921-4246-cda4-0dd649b6586e"
      },
      "execution_count": 5,
      "outputs": [
        {
          "output_type": "stream",
          "name": "stdout",
          "text": [
            "Hello, Deepak!\n"
          ]
        }
      ]
    },
    {
      "cell_type": "markdown",
      "source": [
        "# 3)What are the diffrent Ways to define and call a function in Python ?"
      ],
      "metadata": {
        "id": "K4YeYyl0nl2y"
      }
    },
    {
      "cell_type": "markdown",
      "source": [
        "In Python, functions can be defined and called in various ways depending on the need. Let's break down the different ways to define and call functions."
      ],
      "metadata": {
        "id": "aLSg2HdTo_fU"
      }
    },
    {
      "cell_type": "markdown",
      "source": [
        "1. Standard Function Definition and Call\n",
        "The most common way to define a function is using the def keyword."
      ],
      "metadata": {
        "id": "jp8CrlD9tilT"
      }
    },
    {
      "cell_type": "code",
      "source": [
        "def greet(name):\n",
        "    return f\"Hello, {name}!\"\n",
        "    print(greet(\"Deepak\"))"
      ],
      "metadata": {
        "id": "4NlcgBUNtUS7"
      },
      "execution_count": 6,
      "outputs": []
    },
    {
      "cell_type": "markdown",
      "source": [
        "2. Function with Default Parameters\n",
        "You can define default values for parameters."
      ],
      "metadata": {
        "id": "DJISKG2DuwZ8"
      }
    },
    {
      "cell_type": "code",
      "source": [
        "def greet(name=\"Guest\"):\n",
        "    return f\"Hello, {name}!\"\n",
        "    print(greet())\n",
        "print(greet(\"Deepak\"))"
      ],
      "metadata": {
        "colab": {
          "base_uri": "https://localhost:8080/"
        },
        "id": "odmkfRkAvED9",
        "outputId": "47858aaf-f98d-4e1b-991c-4d26b40a7a80"
      },
      "execution_count": 11,
      "outputs": [
        {
          "output_type": "stream",
          "name": "stdout",
          "text": [
            "Hello, Deepak!\n"
          ]
        }
      ]
    },
    {
      "cell_type": "markdown",
      "source": [
        "3. Function with Variable-Length Arguments (*args)\n",
        "Handles an arbitrary number of positional arguments."
      ],
      "metadata": {
        "id": "I9HC8vIxv8nq"
      }
    },
    {
      "cell_type": "code",
      "source": [
        "def add_numbers(*args):\n",
        "    return sum(args)\n",
        "print(add_numbers(4, 5))\n"
      ],
      "metadata": {
        "colab": {
          "base_uri": "https://localhost:8080/"
        },
        "id": "Ze92C3xuvVZm",
        "outputId": "6229fb1e-08f0-4851-b64a-8e92d39cee42"
      },
      "execution_count": 16,
      "outputs": [
        {
          "output_type": "stream",
          "name": "stdout",
          "text": [
            "9\n"
          ]
        }
      ]
    },
    {
      "cell_type": "markdown",
      "source": [
        "4. Function with Keyword Variable-Length Arguments (**kwargs)\n",
        "Handles an arbitrary number of keyword arguments."
      ],
      "metadata": {
        "id": "21fwFg6yxaM5"
      }
    },
    {
      "cell_type": "code",
      "source": [
        "def display_info(**kwargs):\n",
        "    for key, value in kwargs.items():\n",
        "        print(f\"{key}: {value}\")\n"
      ],
      "metadata": {
        "id": "tIY_3RVVwhfE"
      },
      "execution_count": 17,
      "outputs": []
    },
    {
      "cell_type": "markdown",
      "source": [
        "5. Lambda (Anonymous) Functions\n",
        "One-line functions defined using the lambda keyword."
      ],
      "metadata": {
        "id": "_-mSrAckykur"
      }
    },
    {
      "cell_type": "code",
      "source": [
        "add = lambda x, y: x + y\n"
      ],
      "metadata": {
        "id": "Gp8NzGkjxtVm"
      },
      "execution_count": 18,
      "outputs": []
    },
    {
      "cell_type": "markdown",
      "source": [
        "6. Nested Functions\n",
        "Defining a function within another function."
      ],
      "metadata": {
        "id": "d4UMZERByuzA"
      }
    },
    {
      "cell_type": "code",
      "source": [
        "def outer_function(message):\n",
        "    def inner_function():\n",
        "        print(message)\n",
        "    inner_function()"
      ],
      "metadata": {
        "id": "-eFzUUS9yqJt"
      },
      "execution_count": 20,
      "outputs": []
    },
    {
      "cell_type": "markdown",
      "source": [
        "7. Recursive Functions\n",
        "A function that calls itself."
      ],
      "metadata": {
        "id": "u35iUNZhy4d5"
      }
    },
    {
      "cell_type": "code",
      "source": [
        "def factorial(n):\n",
        "    if n == 1:\n",
        "        return 1\n",
        "    return n * factorial(n - 1)"
      ],
      "metadata": {
        "id": "0SQ_2xYYyywN"
      },
      "execution_count": 21,
      "outputs": []
    },
    {
      "cell_type": "markdown",
      "source": [
        "8. Higher-Order Functions\n",
        "A function that takes another function as an argument."
      ],
      "metadata": {
        "id": "6JBUfgt-zBvU"
      }
    },
    {
      "cell_type": "code",
      "source": [
        "def apply_function(func, value):\n",
        "    return func(value)\n",
        "\n",
        "def square(n):\n",
        "    return n * n"
      ],
      "metadata": {
        "id": "HGTXoD2zy8yW"
      },
      "execution_count": 22,
      "outputs": []
    },
    {
      "cell_type": "markdown",
      "source": [
        "9. Class Methods as Functions\n",
        "Functions defined inside a class."
      ],
      "metadata": {
        "id": "_rTAK1LjzLYp"
      }
    },
    {
      "cell_type": "code",
      "source": [
        "class Greeter:\n",
        "    def greet(self, name):\n",
        "        return f\"Hello, {name}!\"\n"
      ],
      "metadata": {
        "id": "p7gqQrGnzGua"
      },
      "execution_count": 23,
      "outputs": []
    },
    {
      "cell_type": "markdown",
      "source": [
        "# 4) What is purpose of the return statement in a python function ?"
      ],
      "metadata": {
        "id": "PfyARCkbzUCf"
      }
    },
    {
      "cell_type": "markdown",
      "source": [
        "The return statement in a Python function serves a crucial role in specifying the value (or values) that a function should send back to the caller after its execution."
      ],
      "metadata": {
        "id": "q5aPP0E51Fkg"
      }
    },
    {
      "cell_type": "markdown",
      "source": [
        "Key Purposes of the return Statement\n",
        "1. Return a Single Value\n",
        "The most common use is to return a single value as the result of the function."
      ],
      "metadata": {
        "id": "dzyQ4T8j1WIK"
      }
    },
    {
      "cell_type": "code",
      "source": [
        "def square(number):\n",
        "    return number * number\n",
        "\n",
        "result = square(4)\n",
        "print(result)"
      ],
      "metadata": {
        "colab": {
          "base_uri": "https://localhost:8080/"
        },
        "id": "-VoOsIYVzQjH",
        "outputId": "b0df0914-f11e-4f3f-fdb3-21d48c4055e9"
      },
      "execution_count": 24,
      "outputs": [
        {
          "output_type": "stream",
          "name": "stdout",
          "text": [
            "16\n"
          ]
        }
      ]
    },
    {
      "cell_type": "markdown",
      "source": [
        "2. Return Multiple Values\n",
        "Python allows functions to return multiple values using tuples."
      ],
      "metadata": {
        "id": "dHJmLJv31vHK"
      }
    },
    {
      "cell_type": "code",
      "source": [
        "def get_user_info():\n",
        "    name = \"Deepak\"\n",
        "    age = 20\n",
        "    return name, age\n",
        "    age = 30\n",
        "    return name, age\n",
        "\n",
        "name, age = get_user_info()\n",
        "print(name)\n",
        "print(age)\n"
      ],
      "metadata": {
        "colab": {
          "base_uri": "https://localhost:8080/"
        },
        "id": "Vr-eLuQq1kzK",
        "outputId": "d41f16fa-1d28-4f8d-aa23-8411f18abe9a"
      },
      "execution_count": 25,
      "outputs": [
        {
          "output_type": "stream",
          "name": "stdout",
          "text": [
            "Deepak\n",
            "20\n"
          ]
        }
      ]
    },
    {
      "cell_type": "markdown",
      "source": [
        "3. Return Without a Value (None)\n",
        "If no value is specified after return, or return is omitted entirely, the function returns None by default."
      ],
      "metadata": {
        "id": "B7YpYK7W4BQI"
      }
    },
    {
      "cell_type": "code",
      "source": [
        "def greet(name):\n",
        "    print(f\"Hello, {name}!\")\n",
        "    return\n",
        "print(greet(\"Dv\"))"
      ],
      "metadata": {
        "colab": {
          "base_uri": "https://localhost:8080/"
        },
        "id": "5JaB7Cyx1_QI",
        "outputId": "f93d3f36-f0fc-410f-f96b-df10d75760a6"
      },
      "execution_count": 34,
      "outputs": [
        {
          "output_type": "stream",
          "name": "stdout",
          "text": [
            "Hello, Dv!\n",
            "None\n"
          ]
        }
      ]
    },
    {
      "cell_type": "markdown",
      "source": [
        "4. Exit a Function Early\n",
        "return can be used to exit a function prematurely if a condition is met"
      ],
      "metadata": {
        "id": "t7KaN8Wz4xZX"
      }
    },
    {
      "cell_type": "code",
      "source": [
        "def check_even(number):\n",
        "    if number % 2 == 0:\n",
        "        return \"Even\"\n",
        "    return \"Odd\"\n",
        "print(check_even(3))\n",
        "print(check_even(4))\n"
      ],
      "metadata": {
        "colab": {
          "base_uri": "https://localhost:8080/"
        },
        "id": "Ow2TbtDf4Qz3",
        "outputId": "6adfb1b6-28e1-4d8f-e407-176a17ce0e2c"
      },
      "execution_count": 36,
      "outputs": [
        {
          "output_type": "stream",
          "name": "stdout",
          "text": [
            "Odd\n",
            "Even\n"
          ]
        }
      ]
    },
    {
      "cell_type": "markdown",
      "source": [
        "5. Returning Complex Data Structures\n",
        "Functions can return lists, dictionaries, or other complex data structures."
      ],
      "metadata": {
        "id": "ckaFaM105Frm"
      }
    },
    {
      "cell_type": "code",
      "source": [
        "def get_student_data():\n",
        "    return {\"name\": \"Deepak\", \"age\": 22, \"grades\": [85, 90, 92]}\n",
        "\n",
        "student_data = get_student_data()\n",
        "print(student_data[\"name\"])\n"
      ],
      "metadata": {
        "colab": {
          "base_uri": "https://localhost:8080/"
        },
        "id": "jeYvO-Pf5IhS",
        "outputId": "958d280b-f2a0-444d-a985-36cbf6817ec3"
      },
      "execution_count": 37,
      "outputs": [
        {
          "output_type": "stream",
          "name": "stdout",
          "text": [
            "Deepak\n"
          ]
        }
      ]
    },
    {
      "cell_type": "markdown",
      "source": [
        "# 5) What are iterators in python and how do they differ from iterables ?"
      ],
      "metadata": {
        "id": "-cLBwDvG6I_u"
      }
    },
    {
      "cell_type": "markdown",
      "source": [
        "Definition: An iterable is any Python object capable of returning its elements one at a time, such as lists, strings, tuples, and dictionaries.\n",
        "\n",
        "How: They have the __iter__() method that returns an iterator"
      ],
      "metadata": {
        "id": "SMFlCuD463gP"
      }
    },
    {
      "cell_type": "code",
      "source": [
        "my_list = [1, 2, 3]  # A list is an iterable\n",
        "for item in my_list:\n",
        "    print(item)"
      ],
      "metadata": {
        "colab": {
          "base_uri": "https://localhost:8080/"
        },
        "id": "eVcPUsRQ5RdB",
        "outputId": "c517f70c-3e92-4817-ae56-31f4460423e5"
      },
      "execution_count": 38,
      "outputs": [
        {
          "output_type": "stream",
          "name": "stdout",
          "text": [
            "1\n",
            "2\n",
            "3\n"
          ]
        }
      ]
    },
    {
      "cell_type": "markdown",
      "source": [
        "2. Iterators\n",
        "Definition: An iterator is an object that enables a programmer to traverse through all the elements of a collection (like lists or dictionaries) and remembers its position during iteration.\n",
        "How: It implements both the __iter__() and __next__() methods."
      ],
      "metadata": {
        "id": "gXy1Cha87Ve0"
      }
    },
    {
      "cell_type": "code",
      "source": [
        "my_iter = iter([1, 2, 3])\n",
        "print(next(my_iter))\n",
        "print(next(my_iter))\n",
        "print(next(my_iter))"
      ],
      "metadata": {
        "colab": {
          "base_uri": "https://localhost:8080/"
        },
        "id": "QHTBRwAk7J9E",
        "outputId": "6d02c33a-9935-4144-e75b-352000b60100"
      },
      "execution_count": 39,
      "outputs": [
        {
          "output_type": "stream",
          "name": "stdout",
          "text": [
            "1\n",
            "2\n",
            "3\n"
          ]
        }
      ]
    },
    {
      "cell_type": "markdown",
      "source": [
        "# 6) Explain the concept of generators in python and how they are defined ?"
      ],
      "metadata": {
        "id": "dFQtPJaD7s0V"
      }
    },
    {
      "cell_type": "markdown",
      "source": [
        "Generators are a special type of iterator in Python that allows you to produce a sequence of values lazily — meaning one at a time, only when requested — rather than computing them all at once and storing them in memory."
      ],
      "metadata": {
        "id": "okMjUjvT8P-o"
      }
    },
    {
      "cell_type": "markdown",
      "source": [
        "Key Characteristics of Generators\n",
        "Lazy Evaluation: They generate values on-the-fly, which saves memory for large datasets.\n",
        "State Persistence: They maintain their state between calls, unlike normal functions that restart from the top.\n",
        "Iterators: Generators automatically implement the iterator protocol with __iter__() and __next__() methods."
      ],
      "metadata": {
        "id": "wMEH4xCR8t7z"
      }
    },
    {
      "cell_type": "code",
      "source": [
        "def number_generator():\n",
        "    yield 1\n",
        "    yield 2\n",
        "    yield 3\n",
        "\n",
        "# Calling the generator function\n",
        "gen = number_generator()\n",
        "print(next(gen))\n",
        "print(next(gen))\n",
        "print(next(gen))\n"
      ],
      "metadata": {
        "colab": {
          "base_uri": "https://localhost:8080/"
        },
        "id": "H8xKJmB57iSY",
        "outputId": "19847d2d-4ed7-4a2b-a98e-fdfc5856e40e"
      },
      "execution_count": 40,
      "outputs": [
        {
          "output_type": "stream",
          "name": "stdout",
          "text": [
            "1\n",
            "2\n",
            "3\n"
          ]
        }
      ]
    },
    {
      "cell_type": "markdown",
      "source": [
        "# 7) What are the advantages of using generators over regular functions ?"
      ],
      "metadata": {
        "id": "074U8pbz9ND2"
      }
    },
    {
      "cell_type": "markdown",
      "source": [
        "Generators in Python offer several advantages over regular functions, primarily due to their ability to produce values on demand and maintain state between executions."
      ],
      "metadata": {
        "id": "hbFIB69G-1iO"
      }
    },
    {
      "cell_type": "markdown",
      "source": [
        "1. Memory Efficiency\n",
        "Advantage: Generators do not store the entire result in memory; they yield one value at a time as required.\n",
        "Use Case: Ideal for processing large datasets or streams where loading the entire data into memory is impractical."
      ],
      "metadata": {
        "id": "qezVZ16W_B6r"
      }
    },
    {
      "cell_type": "code",
      "source": [
        "def generate_numbers():\n",
        "    for i in range(10**6):\n",
        "        yield i\n",
        "\n",
        "gen = generate_numbers()\n",
        "print(next(gen))\n",
        "print(next(gen))"
      ],
      "metadata": {
        "colab": {
          "base_uri": "https://localhost:8080/"
        },
        "id": "0cOx6JDL_b4D",
        "outputId": "98a4ac4d-bd6d-497f-82f1-8ffcb6e733bb"
      },
      "execution_count": 41,
      "outputs": [
        {
          "output_type": "stream",
          "name": "stdout",
          "text": [
            "0\n",
            "1\n"
          ]
        }
      ]
    },
    {
      "cell_type": "markdown",
      "source": [
        " 2. Lazy Evaluation\n",
        "Advantage: Generators compute values only when requested, which can improve performance.\n",
        "Use Case: Efficient in scenarios where not all results are required immediately or might not even be needed."
      ],
      "metadata": {
        "id": "r1fFveZs_TuX"
      }
    },
    {
      "cell_type": "code",
      "source": [
        "def lazy_squares():\n",
        "    for i in range(1, 5):\n",
        "        print(f\"Generating square of {i}\")\n",
        "        yield i * i\n",
        "\n",
        "gen = lazy_squares()\n",
        "print(next(gen))\n"
      ],
      "metadata": {
        "colab": {
          "base_uri": "https://localhost:8080/"
        },
        "id": "qs3BBdR-85nt",
        "outputId": "0a9a87a8-9fb8-4369-9c6d-9e82e71db182"
      },
      "execution_count": 42,
      "outputs": [
        {
          "output_type": "stream",
          "name": "stdout",
          "text": [
            "Generating square of 1\n",
            "1\n"
          ]
        }
      ]
    },
    {
      "cell_type": "markdown",
      "source": [
        "3. Infinite Sequences\n",
        "Advantage: Generators can produce infinite sequences without running out of memory.\n",
        "Use Case: Suitable for counters, Fibonacci series, or time-based data"
      ],
      "metadata": {
        "id": "fYeeTt28_-5o"
      }
    },
    {
      "cell_type": "code",
      "source": [
        "def infinite_counter():\n",
        "    count = 0\n",
        "    while True:\n",
        "        yield count\n",
        "        count += 1\n",
        "\n",
        "counter = infinite_counter()\n",
        "print(next(counter))\n",
        "print(next(counter))"
      ],
      "metadata": {
        "colab": {
          "base_uri": "https://localhost:8080/"
        },
        "id": "6QLC_0_b_50T",
        "outputId": "ec9092a0-a10f-499c-aa9d-e0d26acc44c5"
      },
      "execution_count": 43,
      "outputs": [
        {
          "output_type": "stream",
          "name": "stdout",
          "text": [
            "0\n",
            "1\n"
          ]
        }
      ]
    },
    {
      "cell_type": "markdown",
      "source": [
        "4. State Persistence\n",
        "Advantage: Generators maintain their state between calls, eliminating the need for global variables or complex data management.\n",
        "Use Case: Useful in tasks requiring incremental processing."
      ],
      "metadata": {
        "id": "-HD_Bq2fAIGp"
      }
    },
    {
      "cell_type": "code",
      "source": [
        "def countdown(n):\n",
        "    while n > 0:\n",
        "        yield n\n",
        "        n -= 1\n",
        "\n",
        "cd = countdown(3)\n",
        "print(next(cd))\n",
        "print(next(cd))"
      ],
      "metadata": {
        "colab": {
          "base_uri": "https://localhost:8080/"
        },
        "id": "tuWYaSX9AFe2",
        "outputId": "4a290bbc-ec2f-44fa-93ea-4cb95b941d2c"
      },
      "execution_count": 44,
      "outputs": [
        {
          "output_type": "stream",
          "name": "stdout",
          "text": [
            "3\n",
            "2\n"
          ]
        }
      ]
    },
    {
      "cell_type": "markdown",
      "source": [
        "5. Better Performance\n",
        "Advantage: Generators are faster for large computations because they avoid building complete lists.\n",
        "Use Case: Processing elements in real-time for machine learning pipelines or log analysis"
      ],
      "metadata": {
        "id": "5jatzNP1ATyM"
      }
    },
    {
      "cell_type": "markdown",
      "source": [
        "6. Cleaner Code for Stream Processing\n",
        "Advantage: Generators provide a clean way to handle pipelines of operations where data flows through multiple steps.\n",
        "Use Case: Reading large files line by line without loading the entire file into memory."
      ],
      "metadata": {
        "id": "Nz_4IeqsAc0K"
      }
    },
    {
      "cell_type": "code",
      "source": [
        "def read_large_file(file_path):\n",
        "    with open(file_path) as file:\n",
        "        for line in file:\n",
        "            yield line.strip()\n"
      ],
      "metadata": {
        "id": "UTYl353YASD7"
      },
      "execution_count": 46,
      "outputs": []
    },
    {
      "cell_type": "markdown",
      "source": [
        "# 8) what is lambda function in python and when is it typically used ?"
      ],
      "metadata": {
        "id": "20GQNtGAAsWS"
      }
    },
    {
      "cell_type": "markdown",
      "source": [
        "A lambda function in Python is an anonymous (nameless) function defined using the lambda keyword. It can have multiple arguments but only one expression\n",
        "\n",
        " lambda arguments: expression\n"
      ],
      "metadata": {
        "id": "bFcaThc2Bcaz"
      }
    },
    {
      "cell_type": "markdown",
      "source": [
        "**Typical Use Cases of Lambda Function**s\n",
        "1. As an Argument to Higher-Order Functions\n",
        "Used with functions like map(), filter(), and reduce().\n",
        "\n",
        "Example: Using map()"
      ],
      "metadata": {
        "id": "dHNEcEuvlQy2"
      }
    },
    {
      "cell_type": "code",
      "source": [
        "numbers = [1, 2, 3, 4]\n",
        "squares = list(map(lambda x: x ** 2, numbers))\n",
        "print(squares)"
      ],
      "metadata": {
        "colab": {
          "base_uri": "https://localhost:8080/"
        },
        "id": "j8F73gdDAgho",
        "outputId": "4b87366c-e659-48e8-ec0a-ccffcffeced9"
      },
      "execution_count": 1,
      "outputs": [
        {
          "output_type": "stream",
          "name": "stdout",
          "text": [
            "[1, 4, 9, 16]\n"
          ]
        }
      ]
    },
    {
      "cell_type": "markdown",
      "source": [
        "2. Sorting with Custom Keys\n",
        "Lambda functions can define custom sorting criteria."
      ],
      "metadata": {
        "id": "usDe0sHtlnw6"
      }
    },
    {
      "cell_type": "code",
      "source": [
        "names = [\"Alice\", \"Bob\", \"Charlie\"]\n",
        "sorted_names = sorted(names, key=lambda x: len(x))\n",
        "print(sorted_names)\n"
      ],
      "metadata": {
        "colab": {
          "base_uri": "https://localhost:8080/"
        },
        "id": "MP42qcSYlb20",
        "outputId": "2007fc03-8e16-455e-ff8d-01da26882b3e"
      },
      "execution_count": 2,
      "outputs": [
        {
          "output_type": "stream",
          "name": "stdout",
          "text": [
            "['Bob', 'Alice', 'Charlie']\n"
          ]
        }
      ]
    },
    {
      "cell_type": "markdown",
      "source": [
        "3. Inline Anonymous Functions\n",
        "In scenarios where defining a full function would clutter the code.\n",
        "\n",
        "Example: Simple Calculator"
      ],
      "metadata": {
        "id": "g9nUYuFhmHEe"
      }
    },
    {
      "cell_type": "code",
      "source": [
        "operations = {\n",
        "    \"add\": lambda x, y: x + y,\n",
        "    \"subtract\": lambda x, y: x - y\n",
        "}\n",
        "\n",
        "print(operations[\"add\"](5, 3))\n",
        "print(operations[\"subtract\"](5, 3))\n"
      ],
      "metadata": {
        "colab": {
          "base_uri": "https://localhost:8080/"
        },
        "id": "bSiQ28Z_l-Ao",
        "outputId": "3be56ced-a2f7-4672-b1c5-53e61ff48e91"
      },
      "execution_count": 3,
      "outputs": [
        {
          "output_type": "stream",
          "name": "stdout",
          "text": [
            "8\n",
            "2\n"
          ]
        }
      ]
    },
    {
      "cell_type": "markdown",
      "source": [
        "Limitations of Lambda Functions\n",
        "Single Expression: Can only contain a single expression (no statements or complex logic).\n",
        "Readability: Can become less readable when used for complex operations.\n",
        "Debugging: Harder to debug compared to named functions."
      ],
      "metadata": {
        "id": "gFh7m0B7mf96"
      }
    },
    {
      "cell_type": "markdown",
      "source": [
        "# 9) Explain the purpose and usage of the map() function in python."
      ],
      "metadata": {
        "id": "Cjvk6NNZmiNQ"
      }
    },
    {
      "cell_type": "markdown",
      "source": [
        "The map() function is used to apply a given function to each item in an iterable (like lists, tuples, or strings) and returns an iterator containing the results. It is a concise and efficient way to transform or process elements of a collection.\n",
        "\n",
        "\n",
        "map(function, iterable, ...)\n",
        "\n"
      ],
      "metadata": {
        "id": "VT2ZtjB9nu35"
      }
    },
    {
      "cell_type": "code",
      "source": [
        "def square(x):\n",
        "    return x ** 2\n",
        "\n",
        "numbers = [1, 2, 3, 4]\n",
        "squares = map(square, numbers)\n",
        "print(list(squares))"
      ],
      "metadata": {
        "colab": {
          "base_uri": "https://localhost:8080/"
        },
        "id": "bvTDHEQjmOTV",
        "outputId": "9cfb7d25-df17-4a3f-dd9f-785f715f56ee"
      },
      "execution_count": 1,
      "outputs": [
        {
          "output_type": "stream",
          "name": "stdout",
          "text": [
            "[1, 4, 9, 16]\n"
          ]
        }
      ]
    },
    {
      "cell_type": "markdown",
      "source": [
        "Advantages of map()\n",
        "Efficiency: Faster than traditional for loops for large datasets.\n",
        "Conciseness: Cleaner and more readable code when transforming iterables.\n",
        "Lazy Evaluation: Returns an iterator rather than a list, optimizing memory usage."
      ],
      "metadata": {
        "id": "IKm1o7hr-xrT"
      }
    },
    {
      "cell_type": "markdown",
      "source": [
        "# 10) What is the difference between map(),reduce(),and filtter() functions in python ?"
      ],
      "metadata": {
        "id": "81BjoyhA-zim"
      }
    },
    {
      "cell_type": "markdown",
      "source": [
        "These are built-in higher-order functions in Python used for functional programming. While they share similarities, they serve distinct purposes"
      ],
      "metadata": {
        "id": "Yn-x-P5Y_dqH"
      }
    },
    {
      "cell_type": "markdown",
      "source": [
        "1. map()\n",
        "Purpose: Applies a given function to every item in an iterable and returns an iterator with the transformed elements"
      ],
      "metadata": {
        "id": "B7Px3zbD_yZQ"
      }
    },
    {
      "cell_type": "code",
      "source": [
        "numbers = [1, 2, 3, 4]\n",
        "squares = map(lambda x: x ** 2, numbers)\n",
        "print(list(squares))"
      ],
      "metadata": {
        "colab": {
          "base_uri": "https://localhost:8080/"
        },
        "id": "JyDkm2Gy-mdK",
        "outputId": "12b019e1-a17c-4948-cf97-ceb41b777dea"
      },
      "execution_count": 2,
      "outputs": [
        {
          "output_type": "stream",
          "name": "stdout",
          "text": [
            "[1, 4, 9, 16]\n"
          ]
        }
      ]
    },
    {
      "cell_type": "markdown",
      "source": [
        "2. filter()\n",
        "Purpose: Filters elements from an iterable based on a boolean function and returns an iterator containing only elements where the function returns True."
      ],
      "metadata": {
        "id": "nDDaMTeTAE4N"
      }
    },
    {
      "cell_type": "code",
      "source": [
        "numbers = [1, 2, 3, 4, 5, 6]\n",
        "evens = filter(lambda x: x % 2 == 0, numbers)\n",
        "print(list(evens))"
      ],
      "metadata": {
        "colab": {
          "base_uri": "https://localhost:8080/"
        },
        "id": "8joKlmZeABo2",
        "outputId": "2e3eb3a6-7fe2-4951-8baf-e7ff888dfd68"
      },
      "execution_count": 3,
      "outputs": [
        {
          "output_type": "stream",
          "name": "stdout",
          "text": [
            "[2, 4, 6]\n"
          ]
        }
      ]
    },
    {
      "cell_type": "markdown",
      "source": [
        "3. reduce()\n",
        "Purpose: Applies a given function cumulatively to the items in an iterable, reducing it to a single value. Note: reduce() is available in the functools module."
      ],
      "metadata": {
        "id": "Ua_uQQt0AXzt"
      }
    },
    {
      "cell_type": "code",
      "source": [
        "from functools import reduce\n",
        "\n",
        "numbers = [1, 2, 3, 4]\n",
        "sum_of_numbers = reduce(lambda x, y: x + y, numbers)\n",
        "print(sum_of_numbers)"
      ],
      "metadata": {
        "colab": {
          "base_uri": "https://localhost:8080/"
        },
        "id": "QEyL_NOvAPxc",
        "outputId": "49654849-d64a-4a50-d391-b76c731c91ff"
      },
      "execution_count": 4,
      "outputs": [
        {
          "output_type": "stream",
          "name": "stdout",
          "text": [
            "10\n"
          ]
        }
      ]
    },
    {
      "cell_type": "markdown",
      "source": [
        "# 11) using pen & paper write the internal mechanism for sum operation using reduce function on this given list[47,11,42,13];"
      ],
      "metadata": {
        "id": "Ob-5xyzKAyPD"
      }
    },
    {
      "cell_type": "markdown",
      "source": [
        "To visualize the internal mechanism for the sum operation using reduce() on the list [47, 11, 42, 13], let's break it down step by step on \"pen & paper.\" The function we're applying is a simple addition operation (lambda x, y: x + y)."
      ],
      "metadata": {
        "id": "9szpfTY-BPdO"
      }
    },
    {
      "cell_type": "markdown",
      "source": [
        "Step-by-Step Breakdown\n",
        "First Call: 47 + 11\n",
        "\n",
        "Result: 58\n",
        "Intermediate State: [58, 42, 13]\n",
        "\n",
        "Second Call: 58 + 42\n",
        "\n",
        "Result: 100\n",
        "Intermediate State: [100, 13]\n",
        "\n",
        "Third Call: 100 + 13\n",
        "\n",
        "Result: 113\n",
        "Final Result: 113"
      ],
      "metadata": {
        "id": "i4n2lY1BCMeN"
      }
    },
    {
      "cell_type": "markdown",
      "source": [
        "# *                                           ** Practical Questions**:*\n",
        "\n"
      ],
      "metadata": {
        "id": "6Y_AdWE5Cahc"
      }
    },
    {
      "cell_type": "markdown",
      "source": [
        "# 1) write a python function that takes a list of numbers as input and returns the sum of all even numbers in the list."
      ],
      "metadata": {
        "id": "7zNQRabMCnts"
      }
    },
    {
      "cell_type": "code",
      "source": [
        "def sum_of_even_numbers(numbers):\n",
        "    # Use a list comprehension to filter even numbers and sum them\n",
        "    even_sum = sum(num for num in numbers if num % 2 == 0)\n",
        "    return even_sum\n",
        "\n",
        "# Example usage\n",
        "numbers_list = [1, 2, 3, 4, 5, 6]\n",
        "result = sum_of_even_numbers(numbers_list)\n",
        "print(f\"The sum of even numbers is: {result}\")"
      ],
      "metadata": {
        "colab": {
          "base_uri": "https://localhost:8080/"
        },
        "id": "uzfCfAcWAeFb",
        "outputId": "82db949a-db8d-4ea5-8549-8a4cd561957e"
      },
      "execution_count": 5,
      "outputs": [
        {
          "output_type": "stream",
          "name": "stdout",
          "text": [
            "The sum of even numbers is: 12\n"
          ]
        }
      ]
    },
    {
      "cell_type": "markdown",
      "source": [
        "# 2) Creat a python function that accepts a strings and returns the reverse of that string."
      ],
      "metadata": {
        "id": "sZxzvYF3EcXg"
      }
    },
    {
      "cell_type": "code",
      "source": [
        "def reverse_string(s):\n",
        "    # Reverse the string using slicing\n",
        "    return s[::-1]\n",
        "\n",
        "# Example usage\n",
        "input_string = \"hello\"\n",
        "result = reverse_string(input_string)\n",
        "print(f\"The reverse of '{input_string}' is '{result}'\")"
      ],
      "metadata": {
        "colab": {
          "base_uri": "https://localhost:8080/"
        },
        "id": "bkQldWVXE5bl",
        "outputId": "3dbff1b2-3ab3-41be-bd11-845c2d7227bb"
      },
      "execution_count": 6,
      "outputs": [
        {
          "output_type": "stream",
          "name": "stdout",
          "text": [
            "The reverse of 'hello' is 'olleh'\n"
          ]
        }
      ]
    },
    {
      "cell_type": "markdown",
      "source": [
        "# 3) Implement a python function that takes a list of integer and returna a new list containing the sequares of each numbers."
      ],
      "metadata": {
        "id": "GbqdMycIFKxD"
      }
    },
    {
      "cell_type": "code",
      "source": [
        "def square_numbers(numbers):\n",
        "    # Use list comprehension to compute squares\n",
        "    return [num ** 2 for num in numbers]\n",
        "\n",
        "# Example usage\n",
        "numbers_list = [1, 2, 3, 4, 5]\n",
        "squared_list = square_numbers(numbers_list)\n",
        "print(f\"Original list: {numbers_list}\")\n",
        "print(f\"Squared list: {squared_list}\")"
      ],
      "metadata": {
        "colab": {
          "base_uri": "https://localhost:8080/"
        },
        "id": "KDQYEB76FCbD",
        "outputId": "eae60c68-4252-48f6-864b-abaf5aa6cef3"
      },
      "execution_count": 7,
      "outputs": [
        {
          "output_type": "stream",
          "name": "stdout",
          "text": [
            "Original list: [1, 2, 3, 4, 5]\n",
            "Squared list: [1, 4, 9, 16, 25]\n"
          ]
        }
      ]
    },
    {
      "cell_type": "markdown",
      "source": [
        "# 4) Write a python function that checks if a given number is prime or not from 1 to 200"
      ],
      "metadata": {
        "id": "L53LXR_6GDkb"
      }
    },
    {
      "cell_type": "code",
      "source": [
        "def is_prime(n):\n",
        "    if n < 2:  # 0 and 1 are not prime numbers\n",
        "        return False\n",
        "    for i in range(2, int(n ** 0.5) + 1):  # Check divisibility up to the square root of n\n",
        "        if n % i == 0:\n",
        "            return False\n",
        "    return True\n",
        "\n",
        "# Print prime numbers from 1 to 200\n",
        "print(\"Prime numbers from 1 to 200:\")\n",
        "for number in range(1, 201):\n",
        "    if is_prime(number):\n",
        "        print(number, end=\" \")"
      ],
      "metadata": {
        "colab": {
          "base_uri": "https://localhost:8080/"
        },
        "id": "xofxYPNoF4bM",
        "outputId": "2dc6de6f-0fed-42ed-eb92-a2a7845779b1"
      },
      "execution_count": 8,
      "outputs": [
        {
          "output_type": "stream",
          "name": "stdout",
          "text": [
            "Prime numbers from 1 to 200:\n",
            "2 3 5 7 11 13 17 19 23 29 31 37 41 43 47 53 59 61 67 71 73 79 83 89 97 101 103 107 109 113 127 131 137 139 149 151 157 163 167 173 179 181 191 193 197 199 "
          ]
        }
      ]
    },
    {
      "cell_type": "markdown",
      "source": [
        "# 5) Creat an iterator class in python that generates the fibonacci sequence up to a specified number of terms"
      ],
      "metadata": {
        "id": "pizMmmaPGuxu"
      }
    },
    {
      "cell_type": "code",
      "source": [
        "class FibonacciIterator:\n",
        "    def __init__(self, n_terms):\n",
        "        self.n_terms = n_terms\n",
        "        self.current_term = 0\n",
        "        self.a = 0  # First Fibonacci number\n",
        "        self.b = 1  # Second Fibonacci number\n",
        "\n",
        "    def __iter__(self):\n",
        "        return self\n",
        "\n",
        "    def __next__(self):\n",
        "        if self.current_term >= self.n_terms:\n",
        "            raise StopIteration\n",
        "\n",
        "        # Return the current Fibonacci number and update the sequence\n",
        "        fib_number = self.a\n",
        "        self.a, self.b = self.b, self.a + self.b\n",
        "        self.current_term += 1\n",
        "        return fib_number\n",
        "\n",
        "\n",
        "# Example usage\n",
        "n = 10\n",
        "print(f\"First {n} terms of the Fibonacci sequence:\")"
      ],
      "metadata": {
        "colab": {
          "base_uri": "https://localhost:8080/"
        },
        "id": "7hGsdFuBGgS4",
        "outputId": "8d8a3599-f757-4459-fa7f-c7de8dd99d09"
      },
      "execution_count": 9,
      "outputs": [
        {
          "output_type": "stream",
          "name": "stdout",
          "text": [
            "First 10 terms of the Fibonacci sequence:\n"
          ]
        }
      ]
    },
    {
      "cell_type": "markdown",
      "source": [
        "# 6) Write  a generator function in python that yields the powers of 2 up to a given exponent"
      ],
      "metadata": {
        "id": "ft8cMpNRHbbb"
      }
    },
    {
      "cell_type": "code",
      "source": [
        "def powers_of_two(max_exponent):\n",
        "    for exponent in range(max_exponent + 1):\n",
        "        yield 2 ** exponent\n",
        "\n",
        "# Example usage\n",
        "max_exponent = 5\n",
        "print(f\"Powers of 2 up to 2^{max_exponent}:\")\n",
        "for power in powers_of_two(max_exponent):\n",
        "    print(power, end=\" \")"
      ],
      "metadata": {
        "colab": {
          "base_uri": "https://localhost:8080/"
        },
        "id": "GQaABLBEHYk_",
        "outputId": "546f142c-82b4-47a4-f496-4169ad667003"
      },
      "execution_count": 10,
      "outputs": [
        {
          "output_type": "stream",
          "name": "stdout",
          "text": [
            "Powers of 2 up to 2^5:\n",
            "1 2 4 8 16 32 "
          ]
        }
      ]
    },
    {
      "cell_type": "markdown",
      "source": [
        "# 7) Implement a generator function that reads a file line by line and yields each line as a string."
      ],
      "metadata": {
        "id": "KcKLuKFOIGbp"
      }
    },
    {
      "cell_type": "code",
      "source": [
        "def read_lines(file_path):\n",
        "    with open(file_path, 'r') as file:\n",
        "        for line in file:\n",
        "            yield line.strip()  # `strip()` removes leading/trailing whitespace, including newlines\n"
      ],
      "metadata": {
        "id": "VRpib0cYKDaD"
      },
      "execution_count": 24,
      "outputs": []
    },
    {
      "cell_type": "markdown",
      "source": [
        "# 8)use a Lambda function in python to sort a list of tuples based on the second element of each tuple."
      ],
      "metadata": {
        "id": "-l_S2ta7LUAU"
      }
    },
    {
      "cell_type": "code",
      "source": [
        "# List of tuples\n",
        "tuples_list = [(1, 3), (2, 1), (3, 2), (4, 4)]\n",
        "\n",
        "# Sort the list of tuples based on the second element using a lambda function\n",
        "sorted_list = sorted(tuples_list, key=lambda x: x[1])\n",
        "\n",
        "# Print the sorted list\n",
        "print(sorted_list)"
      ],
      "metadata": {
        "colab": {
          "base_uri": "https://localhost:8080/"
        },
        "id": "UbI_9YEJLScN",
        "outputId": "822ce28c-4e7f-4409-9a31-4f3da19aacfc"
      },
      "execution_count": 25,
      "outputs": [
        {
          "output_type": "stream",
          "name": "stdout",
          "text": [
            "[(2, 1), (3, 2), (1, 3), (4, 4)]\n"
          ]
        }
      ]
    },
    {
      "cell_type": "markdown",
      "source": [
        "## 9)Write a python program that uses map() to convert a list of temperature from celesius to fahrenheit."
      ],
      "metadata": {
        "id": "9KZxGkV3MDDk"
      }
    },
    {
      "cell_type": "code",
      "source": [
        "# List of temperatures in Celsius\n",
        "celsius_temperatures = [0, 20, 25, 30, 40]\n",
        "\n",
        "# Function to convert Celsius to Fahrenheit\n",
        "def celsius_to_fahrenheit(celsius):\n",
        "    return (celsius * 9/5) + 32\n",
        "\n",
        "# Use map() to apply the conversion function to each element in the list\n",
        "fahrenheit_temperatures = list(map(celsius_to_fahrenheit, celsius_temperatures))\n",
        "\n",
        "# Print the result\n",
        "print(\"Celsius temperatures:\", celsius_temperatures)\n",
        "print(\"Fahrenheit temperatures:\", fahrenheit_temperatures)"
      ],
      "metadata": {
        "colab": {
          "base_uri": "https://localhost:8080/"
        },
        "id": "p_zXb5hzMBwt",
        "outputId": "21f789a9-4979-4bc8-cdb7-7ac478fd7a58"
      },
      "execution_count": 26,
      "outputs": [
        {
          "output_type": "stream",
          "name": "stdout",
          "text": [
            "Celsius temperatures: [0, 20, 25, 30, 40]\n",
            "Fahrenheit temperatures: [32.0, 68.0, 77.0, 86.0, 104.0]\n"
          ]
        }
      ]
    },
    {
      "cell_type": "markdown",
      "source": [
        "# 10) Create a python program that uses fillter () to remove all the vowels from a given string."
      ],
      "metadata": {
        "id": "XSRjVToVNEu-"
      }
    },
    {
      "cell_type": "code",
      "source": [
        "# Function to filter out vowels from a string\n",
        "def remove_vowels(input_string):\n",
        "    vowels = \"aeiouAEIOU\"  # List of vowels (both lowercase and uppercase)\n",
        "\n",
        "    # Use filter() to keep only non-vowel characters\n",
        "    filtered_chars = filter(lambda char: char not in vowels, input_string)\n",
        "\n",
        "    # Join the filtered characters back into a string\n",
        "    return ''.join(filtered_chars)\n",
        "\n",
        "# Example usage\n",
        "input_string = \"Hello, World!\"\n",
        "result = remove_vowels(input_string)\n",
        "print(f\"Original String: {input_string}\")\n",
        "print(f\"String without vowels: {result}\")"
      ],
      "metadata": {
        "colab": {
          "base_uri": "https://localhost:8080/"
        },
        "id": "ZPZ_CrWqNCIq",
        "outputId": "56fe50a5-ca01-4dc4-c514-0b32cb680ec4"
      },
      "execution_count": 27,
      "outputs": [
        {
          "output_type": "stream",
          "name": "stdout",
          "text": [
            "Original String: Hello, World!\n",
            "String without vowels: Hll, Wrld!\n"
          ]
        }
      ]
    },
    {
      "cell_type": "code",
      "source": [
        "11) Imagine an accounting routine used in a book shop. it works on a list with sublists, which look like this:\n",
        "\n",
        "order number          Book tittle and Author        Quantity      Price per Item\n",
        "============================================================================\n",
        "34587                 Learning Python, Mark Lutz        4           40.95\n",
        "98762                 Programming Python, Mark Lutz     5           56.80\n",
        "77226                 Head First Python, Paul Barry     3           32.95\n",
        "88112                 Einfuhrung in Python3, Bernd Klein 3           24.99\n",
        " Write a python program ,which return a list with 2-tuples.Each tuples consists of the order number and the product of the price per items and the quanity.\n",
        " The product should be incresed by 10,-c if the value of the order is smaller than 10000c\n",
        "\n",
        " Write a python program using lambda and map."
      ],
      "metadata": {
        "id": "zjLC_QxVO8b1"
      },
      "execution_count": null,
      "outputs": []
    },
    {
      "cell_type": "code",
      "source": [
        "# List of orders, each containing: order number, book title and author, quantity, price per item\n",
        "orders = [\n",
        "    [34587, \"Learning Python, Mark Lutz\", 4, 40.95],\n",
        "    [98762, \"Programming Python, Mark Lutz\", 5, 56.80],\n",
        "    [77226, \"Head First Python, Paul Barry\", 3, 32.95],\n",
        "    [88112, \"Einfuhrung in Python3, Bernd Klein\", 3, 24.99]\n",
        "]\n",
        "\n",
        "# Function to calculate the total cost and apply the extra 10 if the order value is smaller than 10000\n",
        "def calculate_total(order):\n",
        "    order_number, title_author, quantity, price = order\n",
        "    total = quantity * price\n",
        "    # If the total is less than 10000, increase by 10\n",
        "    if total < 10000:\n",
        "        total += 10\n",
        "    return (order_number, total)\n",
        "\n",
        "# Use map() with lambda to apply the function to each order\n",
        "result = list(map(lambda order: calculate_total(order), orders))\n",
        "\n",
        "# Print the result\n",
        "print(result)"
      ],
      "metadata": {
        "colab": {
          "base_uri": "https://localhost:8080/"
        },
        "id": "iRWtijkHSBiA",
        "outputId": "26190d68-b786-428e-965b-4451825d2588"
      },
      "execution_count": 28,
      "outputs": [
        {
          "output_type": "stream",
          "name": "stdout",
          "text": [
            "[(34587, 173.8), (98762, 294.0), (77226, 108.85000000000001), (88112, 84.97)]\n"
          ]
        }
      ]
    },
    {
      "cell_type": "code",
      "source": [],
      "metadata": {
        "id": "ZUqjvCn5SEfh"
      },
      "execution_count": null,
      "outputs": []
    }
  ]
}