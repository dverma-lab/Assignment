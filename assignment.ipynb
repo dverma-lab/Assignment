{
  "nbformat": 4,
  "nbformat_minor": 0,
  "metadata": {
    "colab": {
      "provenance": [],
      "gpuType": "T4",
      "collapsed_sections": [
        "i1Ju5aXfssvR",
        "U9Llab8Plvjr",
        "C4VA8bwqxTI5",
        "BuFgc-igs9Ay",
        "daXUMNl956-i",
        "ps2mCq5iAc8Q",
        "MKJpnwtuprb-",
        "ZjQOOjslA_JS",
        "6YrLHXztDiaB"
      ]
    },
    "kernelspec": {
      "name": "python3",
      "display_name": "Python 3"
    },
    "language_info": {
      "name": "python"
    },
    "accelerator": "GPU"
  },
  "cells": [
    {
      "cell_type": "markdown",
      "source": [
        "#                                                       Phython basic Question\n",
        "\n"
      ],
      "metadata": {
        "id": "Lg4qKnO-vbqF"
      }
    },
    {
      "cell_type": "markdown",
      "source": [
        "## 1) what is phython,and why is it popular"
      ],
      "metadata": {
        "id": "i1Ju5aXfssvR"
      }
    },
    {
      "cell_type": "markdown",
      "source": [
        "\n",
        "-) Python is a high-level, interpreted programming language known for its simplicity and readability. Here's a quick rundown of what makes Python so popular:\n",
        "\n",
        "Easy to Learn and Use: Python has a clear and straightforward syntax, which makes it accessible to beginners and allows experienced developers to write code efficiently.\n",
        "\n",
        "Versatility: Python can be used for a wide range of applications, including web development, data analysis, artificial intelligence, machine learning, automation, and more.\n",
        "\n",
        "Extensive Libraries and Frameworks: Python boasts a rich ecosystem of libraries and frameworks that simplify complex tasks. For example, Pandas and NumPy for data analysis, TensorFlow and PyTorch for machine learning, and Django and Flask for web development.\n",
        "\n",
        "Community Support: Python has a large and active community of developers who contribute to its development and provide support through forums, tutorials, and documentation.\n",
        "\n",
        "Cross-Platform Compatibility: Python is compatible with various operating systems, including Windows, macOS, and Linux, making it a versatile choice for developers working on different platforms.\n",
        "\n",
        "Productivity and Speed: Python allows for rapid development and prototyping due to its high-level data structures and dynamic typing.\n",
        "\n",
        "Integration Capabilities: Python can easily integrate with other languages and technologies, such as C, C++, and Java, allowing for seamless interoperability in complex projects.\n",
        "\n",
        "Python's combination of simplicity, versatility, and powerful features has made it a favorite among developers, data scientists, and researchers worldwide. Have you had any experience with Python, or are you looking to get started with it?\n",
        "\n"
      ],
      "metadata": {
        "id": "o0yFLmt8xM9p"
      }
    },
    {
      "cell_type": "markdown",
      "source": [
        "# 2) what is interpreter in Phython"
      ],
      "metadata": {
        "id": "U9Llab8Plvjr"
      }
    },
    {
      "cell_type": "markdown",
      "source": [
        "-) An interpreter in Python is a program that reads and executes Python code. Unlike compiled languages, where the code is translated into machine language all at once, an interpreter translates code line by line, executing each line immediately. Here’s a breakdown:\n",
        "\n",
        "**Execution Process**: The interpreter reads Python source code, converts it to an intermediate from known as bytecode, and then executes it. This process allows for immediate feedback, which is helpful for debugging and interactive development.\n",
        "\n",
        "**Portability** : Python code can be run on any system with a compatible interpreter, making it highly portable across different operating systems.\n",
        "\n",
        "**Interactive Programmin**g: Python’s interpreter supports interactive programming, where you can enter and execute code in real time using the Python shell or environments like Jupyter Notebooks.\n",
        "\n",
        "**Flexibility**: Interpreters handle various tasks such as importing libraries, managing memory, and handling exceptions seamlessly.\n",
        "\n",
        "**Different Implementation**s: There are multiple implementations of Python interpreters, including:\n",
        "\n",
        "**CPython**: The default and most widely used interpreter, implemented in C.\n",
        "\n",
        "**Jython**: An implementation for the Java platform.\n",
        "\n",
        "**IronPython**: Designed for the .NET framework.\n",
        "\n",
        "PyPy: Focused on performance, featuring a Just-In-Time (JIT) compiler for faster execution."
      ],
      "metadata": {
        "id": "vpREobSkn8XA"
      }
    },
    {
      "cell_type": "markdown",
      "source": [
        "# 3) What are pre-defind keywords in phython"
      ],
      "metadata": {
        "id": "C4VA8bwqxTI5"
      }
    },
    {
      "cell_type": "markdown",
      "source": [
        "-) Predefined keywords in Python are reserved words that have special meanings and cannot be used for other purposes, such as variable names. These keywords are fundamental to the language's syntax and structure. Here's a list of Python's predefined keywords:\n",
        "\n",
        "False\n",
        "\n",
        "None\n",
        "\n",
        "True\n",
        "\n",
        "and\n",
        "\n",
        "as\n",
        "\n",
        "assert\n",
        "\n",
        "async\n",
        "\n",
        "await\n",
        "\n",
        "break\n",
        "\n",
        "class\n",
        "\n",
        "continue\n",
        "\n",
        "def\n",
        "\n",
        "del\n",
        "\n",
        "elif\n",
        "\n",
        "else\n",
        "\n",
        "except\n",
        "\n",
        "finally\n",
        "\n",
        "for\n",
        "\n",
        "from\n",
        "\n",
        "global\n",
        "\n",
        "if\n",
        "\n",
        "import\n",
        "\n",
        "in\n",
        "\n",
        "is\n",
        "\n",
        "lambda\n",
        "\n",
        "nonlocal\n",
        "\n",
        "not\n",
        "\n",
        "or\n",
        "\n",
        "pass\n",
        "\n",
        "raise\n",
        "\n",
        "return\n",
        "\n",
        "try\n",
        "\n",
        "while\n",
        "\n",
        "with\n",
        "\n",
        "yield **bold text**\n",
        "\n",
        "These keywords are essential building blocks of Python programs, and understanding their purpose and usage is crucial for writing effective Python code. Each keyword serves a specific function, such as control flow (if, for, while), exception handling (try, except, finally), and defining functions and classes (def, class)."
      ],
      "metadata": {
        "id": "VSNIUs-GrfVr"
      }
    },
    {
      "cell_type": "markdown",
      "source": [
        "# 4) Can keywords be used as variable names"
      ],
      "metadata": {
        "id": "BuFgc-igs9Ay"
      }
    },
    {
      "cell_type": "markdown",
      "source": [],
      "metadata": {
        "id": "9SjiLpNGuF9D"
      }
    },
    {
      "cell_type": "markdown",
      "source": [
        "-) In Python, predefined keywords cannot be used as variable names. These keywords have special meanings and are reserved by the language, so using them as variable names would cause syntax errors and confusion. Here's a quick example to demonstrate:\n",
        "# Incorrect usage: Trying to use a keyword as a variable name\n",
        "if = 10  # This will raise a syntax error\n",
        "\n",
        "# Correct usage: Using a valid variable name\n",
        "my_variable = 10  # This is perfectly fine\n",
        "Attempting to use keywords such as if, for, while, def, and others as variable names will result in errors. It's important to choose descriptive and meaningful variable names that do not conflict with Python's reserved keywords."
      ],
      "metadata": {
        "id": "a_jrggrCtZ65"
      }
    },
    {
      "cell_type": "markdown",
      "source": [
        "# 5) What is mutability in phython"
      ],
      "metadata": {
        "id": "0S5FAXEFuygD"
      }
    },
    {
      "cell_type": "markdown",
      "source": [
        "-) Mutability in Python refers to an object's ability to be changed after it has been created. In simpler terms, mutable objects can be modified, while immutable objects cannot be altered once they are created"
      ],
      "metadata": {
        "id": "EhxusTXox-wf"
      }
    },
    {
      "cell_type": "markdown",
      "source": [
        "# 6) why are lists mutable,but tuples are immutable"
      ],
      "metadata": {
        "id": "uRxJCTmjzgDa"
      }
    },
    {
      "cell_type": "markdown",
      "source": [
        "-)Lists and tuples in Python have different characteristics by design, each serving distinct purposes. Here's why lists are mutable and tuples are immutable:\n",
        "\n",
        "Lists (Mutable)\n",
        "Flexibility: Lists are intended for situations where you need a collection of items that can change over time. This includes adding, removing, or modifying elements. The flexibility of lists makes them suitable for use cases like managing dynamic collections of data.\n",
        "\n",
        "Usage Scenarios: Lists are often used when you need to store homogeneous items (items of the same type) or a mix of different types, and when the collection needs to be modified frequently.\n",
        "\n",
        "python\n",
        "my_list = [1, 2, 3]\n",
        "my_list.append(4)  # Adds an element\n",
        "my_list[0] = 0  # Modifies the first element\n",
        "Tuples (Immutable)\n",
        "Efficiency: Tuples are designed for fixed collections of items. Since tuples are immutable, Python can optimize their storage and access. This makes tuples slightly more efficient in terms of memory and performance.\n",
        "\n",
        "Hashability: Because tuples are immutable, they can be used as keys in dictionaries and elements in sets, as their content cannot change. This is crucial for maintaining the integrity of data structures that rely on hash values.\n",
        "\n",
        "Usage Scenarios: Tuples are often used for grouping related data that should not be modified, such as returning multiple values from a function or storing configuration settings.\n",
        "\n",
        "python\n",
        "my_tuple = (1, 2, 3)\n",
        "# Any attempt to modify my_tuple will result in an error\n",
        "Lists (Mutable): Flexible, designed for collections that need to be modified.\n",
        "\n",
        "Tuples (Immutable): Efficient, hashable, designed for fixed collections of data."
      ],
      "metadata": {
        "id": "HxlDr8i4wbzk"
      }
    },
    {
      "cell_type": "markdown",
      "source": [],
      "metadata": {
        "id": "WaYA_8zGxSNh"
      }
    },
    {
      "cell_type": "markdown",
      "source": [
        "# 7) What is the difference between \"==\" and \"is\" opertors in phython"
      ],
      "metadata": {
        "id": "Uyx7VmfDzEB2"
      }
    },
    {
      "cell_type": "markdown",
      "source": [
        "-) What is the difference between \"==\" and \"is\" opertors in phython\n",
        "In Python, the == and is operators are used to compare values, but they serve different purposes and behave differently. Here's a breakdown of the key differences:\n",
        "\n",
        "== Operator\n",
        "Purpose: The == operator checks for value equality. It compares the values of two objects to determine if they are equal.\n",
        "\n",
        "Usage: Use == when you want to check if the contents or values of two objects are the same.\n",
        "\n",
        "Example:\n",
        "\n",
        "python\n",
        "a = [1, 2, 3]\n",
        "b = [1, 2, 3]\n",
        "print(a == b)  # Output: True, because the values are the same\n",
        "is Operator\n",
        "Purpose: The is operator checks for identity equality. It compares the memory addresses of two objects to determine if they refer to the same object.\n",
        "\n",
        "Usage: Use is when you want to check if two references point to the exact same object in memory.\n",
        "\n",
        "Example:\n",
        "\n",
        "python\n",
        "a = [1, 2, 3]\n",
        "b = [1, 2, 3]\n",
        "print(a is b)  # Output: False, because a and b are different objects in memory\n",
        "\n",
        "c = a\n",
        "print(a is c)  # Output: True, because c is the same object as a"
      ],
      "metadata": {
        "id": "8gPFOkktzZw8"
      }
    },
    {
      "cell_type": "markdown",
      "source": [],
      "metadata": {
        "id": "9Tie5p-r0EXy"
      }
    },
    {
      "cell_type": "markdown",
      "source": [
        "# 8) What are logical Opertors in phython"
      ],
      "metadata": {
        "id": "kQ6Ag5gR0GRZ"
      }
    },
    {
      "cell_type": "markdown",
      "source": [
        "-) What are logical Opertors in phython\n",
        "Logical operators in Python are used to combine conditional statements and perform logical operations on boolean values. They help in making decisions based on multiple conditions."
      ],
      "metadata": {
        "id": "nV4gnn6Q0V5S"
      }
    },
    {
      "cell_type": "markdown",
      "source": [
        "# 9) what is type casting in phython"
      ],
      "metadata": {
        "id": "ZjcxNhQh0q-1"
      }
    },
    {
      "cell_type": "markdown",
      "source": [
        "-) Type casting in Python is the process of converting one data type into another. This is useful when you need to perform operations that require specific data types or when you want to ensure that variables are compatible. There are two main types of type casting: implicit and explicit."
      ],
      "metadata": {
        "id": "3TFLZ-Mr02fA"
      }
    },
    {
      "cell_type": "markdown",
      "source": [
        "# 10) What is difference between implicit and explicit type casting"
      ],
      "metadata": {
        "id": "ny5LCexw1CvY"
      }
    },
    {
      "cell_type": "markdown",
      "source": [
        "-)**Implicit Type Casting:**\n",
        "\n",
        "Automatic: Performed by Python without the programmer’s intervention.\n",
        "\n",
        "Use Case: Typically occurs with numeric operations.\n",
        "\n",
        "Example: Adding an integer to a float.\n",
        "\n",
        "**Explicit Type Casting**:\n",
        "\n",
        "Manual: Performed by the programmer using specific functions.\n",
        "\n",
        "Use Case: Needed when converting between different types manually.\n",
        "\n",
        "Example: Converting a string to an integer."
      ],
      "metadata": {
        "id": "u0ALjq-q1cMV"
      }
    },
    {
      "cell_type": "markdown",
      "source": [
        "# 11) What is the purpose of conditional statements in phython"
      ],
      "metadata": {
        "id": "U0XO5Ut811Cz"
      }
    },
    {
      "cell_type": "markdown",
      "source": [
        "-) Conditional statements in Python are used to make decisions based on certain conditions. They allow the program to execute different blocks of code depending on whether a specified condition (or set of conditions) is true or false."
      ],
      "metadata": {
        "id": "RptDC_v32my1"
      }
    },
    {
      "cell_type": "markdown",
      "source": [
        "# 12) How does the elif statement work"
      ],
      "metadata": {
        "id": "9QwkpP7z3C4R"
      }
    },
    {
      "cell_type": "markdown",
      "source": [
        "-) he elif statement in Python stands for \"else if\" and is used to check multiple conditions in sequence. It's a way to handle several possibilities and execute different blocks of code based on which condition is met first"
      ],
      "metadata": {
        "id": "cIRfaJPo3Sw0"
      }
    },
    {
      "cell_type": "markdown",
      "source": [
        "# 13) What is difference between for and While loops"
      ],
      "metadata": {
        "id": "FCn1q5Td3jCL"
      }
    },
    {
      "cell_type": "markdown",
      "source": [
        "-)In Python, both for and while loops are used to repeat a block of code multiple times, but they are suited to different kinds of tasks Iteration Control:\n",
        "\n",
        "**for: Iterates over a sequence of items.**\n",
        "\n",
        "**while: Continues based on a condition.**\n",
        "\n",
        "When to Use:\n",
        "\n",
        "for: When you know the number of iterations or are working with a collection of items.\n",
        "\n",
        "while: When the iteration depends on a condition and the number of iterations is unknown.\n",
        "\n",
        "Termination:\n",
        "\n",
        "for: Terminates after iterating over the entire sequence.\n",
        "\n",
        "while: Terminates when the specified condition becomes false."
      ],
      "metadata": {
        "id": "CuovJkyy3wB0"
      }
    },
    {
      "cell_type": "markdown",
      "source": [
        "# 14) Describe a scenario where a while loop is more suitable than a for loop"
      ],
      "metadata": {
        "id": "7u7DFakW4mE1"
      }
    },
    {
      "cell_type": "markdown",
      "source": [
        "-) A while loop is more suitable than a for loop in scenarios where the number of iterations is not known in advance and depends on a condition that may change during execution. One common example is when you're waiting for user input that meets certain criteria."
      ],
      "metadata": {
        "id": "gwJqJOWA5J-i"
      }
    },
    {
      "cell_type": "markdown",
      "source": [
        "                                                   \n",
        "##                               Practical Questions\n",
        "\n",
        "\n"
      ],
      "metadata": {
        "id": "xngv2Rid5dAB"
      }
    },
    {
      "cell_type": "markdown",
      "source": [
        "# 1) write a python program to print \"Hello World!\""
      ],
      "metadata": {
        "id": "daXUMNl956-i"
      }
    },
    {
      "cell_type": "code",
      "source": [
        "print(\"Hello World!\")"
      ],
      "metadata": {
        "colab": {
          "base_uri": "https://localhost:8080/"
        },
        "id": "GYwd0cW8-G6K",
        "outputId": "61713ca0-eecb-4323-f286-efd04906d37c"
      },
      "execution_count": 1,
      "outputs": [
        {
          "output_type": "stream",
          "name": "stdout",
          "text": [
            "Hello World!\n"
          ]
        }
      ]
    },
    {
      "cell_type": "markdown",
      "source": [
        "# 2)Write a python program that displays your name and age"
      ],
      "metadata": {
        "id": "ps2mCq5iAc8Q"
      }
    },
    {
      "cell_type": "code",
      "source": [
        "# Program to display name and age\n",
        "\n",
        "name = \"DV\"#Example name\n",
        "age = 30 # Example age\n",
        "\n",
        "# Display the name and age\n",
        "print(\"Name:\", name)\n",
        "print(\"Age:\", age)"
      ],
      "metadata": {
        "colab": {
          "base_uri": "https://localhost:8080/"
        },
        "id": "l51ZV19KAQe-",
        "outputId": "9da24721-dcea-4eb6-d3f6-0c7ffc39935a"
      },
      "execution_count": 7,
      "outputs": [
        {
          "output_type": "stream",
          "name": "stdout",
          "text": [
            "Name: DV\n",
            "Age: 30\n"
          ]
        }
      ]
    },
    {
      "cell_type": "markdown",
      "source": [
        "# 3) Write code to print all the pre-defined keywords in python using the keyword library"
      ],
      "metadata": {
        "id": "MKJpnwtuprb-"
      }
    },
    {
      "cell_type": "code",
      "source": [
        "# Get the list of all Python keywords\n",
        "keywords = keyword.kwlist\n",
        "\n",
        "# Print each keyword\n",
        "print(\"Python Keywords:\")\n",
        "for kw in keywords:\n",
        "    print(kw)"
      ],
      "metadata": {
        "colab": {
          "base_uri": "https://localhost:8080/"
        },
        "id": "x6bIg3Rwni8c",
        "outputId": "1e072c4d-3269-4af1-c76b-e9815eb49a49"
      },
      "execution_count": 10,
      "outputs": [
        {
          "output_type": "stream",
          "name": "stdout",
          "text": [
            "Python Keywords:\n",
            "False\n",
            "None\n",
            "True\n",
            "and\n",
            "as\n",
            "assert\n",
            "async\n",
            "await\n",
            "break\n",
            "class\n",
            "continue\n",
            "def\n",
            "del\n",
            "elif\n",
            "else\n",
            "except\n",
            "finally\n",
            "for\n",
            "from\n",
            "global\n",
            "if\n",
            "import\n",
            "in\n",
            "is\n",
            "lambda\n",
            "nonlocal\n",
            "not\n",
            "or\n",
            "pass\n",
            "raise\n",
            "return\n",
            "try\n",
            "while\n",
            "with\n",
            "yield\n"
          ]
        }
      ]
    },
    {
      "cell_type": "markdown",
      "source": [
        "# 4) write a program that checks if a given word is a python keyword"
      ],
      "metadata": {
        "id": "ZjQOOjslA_JS"
      }
    },
    {
      "cell_type": "code",
      "source": [
        "import keyword\n",
        "\n",
        "# Function to check if a word is a Python keyword\n",
        "def is_keyword(word):\n",
        "    return keyword.iskeyword(word)\n",
        "\n",
        "# Input from the user\n",
        "word = input(\"Enter a word to check if it is a Python keyword: \")\n",
        "\n",
        "# Check and display result\n",
        "if is_keyword(word):\n",
        "    print(f\"'{word}' is a Python keyword.\")\n",
        "else:\n",
        "    print(f\"'{word}' is NOT a Python keyword.\")"
      ],
      "metadata": {
        "colab": {
          "base_uri": "https://localhost:8080/"
        },
        "id": "zpfYhqmoByp-",
        "outputId": "7f090096-506e-4490-991b-9effee9c168b"
      },
      "execution_count": 5,
      "outputs": [
        {
          "output_type": "stream",
          "name": "stdout",
          "text": [
            "Enter a word to check if it is a Python keyword: else\n",
            "'else' is a Python keyword.\n"
          ]
        }
      ]
    },
    {
      "cell_type": "markdown",
      "source": [
        "# 5) Creat a list and tuple in python and demostrate how attempting to charge aan element works different for each"
      ],
      "metadata": {
        "id": "6YrLHXztDiaB"
      }
    },
    {
      "cell_type": "code",
      "source": [
        "# Create a list and a tuple\n",
        "my_list = [1, 2, 3]\n",
        "my_tuple = (1, 2, 3)\n",
        "\n",
        "# Modify an element in the list\n",
        "print(\"Original list:\", my_list)\n",
        "my_list[1] = 99  # Change the second element\n",
        "print(\"Modified list:\", my_list)\n",
        "\n",
        "# Attempt to modify an element in the tuple\n",
        "print(\"\\nOriginal tuple:\", my_tuple)\n",
        "try:\n",
        "    my_tuple[1] = 99  # Attempt to change the second element\n",
        "except TypeError as e:\n",
        "    print(\"Error when modifying tuple:\", e)"
      ],
      "metadata": {
        "colab": {
          "base_uri": "https://localhost:8080/"
        },
        "id": "DU4LtS-bDSYF",
        "outputId": "06064bbc-6c2f-4dee-cad2-e1ef67d95795"
      },
      "execution_count": 6,
      "outputs": [
        {
          "output_type": "stream",
          "name": "stdout",
          "text": [
            "Original list: [1, 2, 3]\n",
            "Modified list: [1, 99, 3]\n",
            "\n",
            "Original tuple: (1, 2, 3)\n",
            "Error when modifying tuple: 'tuple' object does not support item assignment\n"
          ]
        }
      ]
    },
    {
      "cell_type": "markdown",
      "source": [
        "# 6) Write a function to demonstrate the behavior of mutable and immutable arguments"
      ],
      "metadata": {
        "id": "xMt6dF08FAw5"
      }
    },
    {
      "cell_type": "code",
      "source": [
        "def modify_arguments(mutable_arg, immutable_arg):\n",
        "    # Modify the mutable argument (list)\n",
        "    mutable_arg.append(99)\n",
        "\n",
        "    # Try modifying the immutable argument (integer)\n",
        "    immutable_arg += 99  # This creates a new integer object\n",
        "\n",
        "# Define a mutable (list) and immutable (integer) argument\n",
        "mutable_list = [1, 2, 3]\n",
        "immutable_int = 10\n",
        "\n",
        "print(\"Before function call:\")\n",
        "print(\"Mutable list:\", mutable_list)\n",
        "print(\"Immutable integer:\", immutable_int)\n",
        "\n",
        "# Call the function\n",
        "modify_arguments(mutable_list, immutable_int)\n",
        "\n",
        "print(\"\\nAfter function call:\")\n",
        "print(\"Mutable list (modified):\", mutable_list)\n",
        "print(\"Immutable integer (unchanged):\", immutable_int)"
      ],
      "metadata": {
        "colab": {
          "base_uri": "https://localhost:8080/"
        },
        "id": "nkXT05jpE9Eb",
        "outputId": "31bb3160-3e94-4828-ceae-c18f26e86efa"
      },
      "execution_count": 7,
      "outputs": [
        {
          "output_type": "stream",
          "name": "stdout",
          "text": [
            "Before function call:\n",
            "Mutable list: [1, 2, 3]\n",
            "Immutable integer: 10\n",
            "\n",
            "After function call:\n",
            "Mutable list (modified): [1, 2, 3, 99]\n",
            "Immutable integer (unchanged): 10\n"
          ]
        }
      ]
    },
    {
      "cell_type": "markdown",
      "source": [
        "# 7)Write a program to demostrate the use of logical opertor"
      ],
      "metadata": {
        "id": "VQIsFNzaF7vT"
      }
    },
    {
      "cell_type": "code",
      "source": [
        "# Define some variables\n",
        "x = 10\n",
        "y = 20\n",
        "z = 5\n",
        "\n",
        "# Demonstrate the use of 'and'\n",
        "print(\"Using 'and':\")\n",
        "if x < y and z < x:\n",
        "    print(\"Both conditions are True\")\n",
        "else:\n",
        "    print(\"At least one condition is False\")\n",
        "\n",
        "# Demonstrate the use of 'or'\n",
        "print(\"\\nUsing 'or':\")\n",
        "if x > y or z < x:\n",
        "    print(\"At least one condition is True\")\n",
        "else:\n",
        "    print(\"Both conditions are False\")\n",
        "\n",
        "# Demonstrate the use of 'not'\n",
        "print(\"\\nUsing 'not':\")\n",
        "if not (x > y):\n",
        "    print(\"'not' negates the condition: x is not greater than y\")\n",
        "else:\n",
        "    print(\"'not' negates the condition: x is greater than y\")"
      ],
      "metadata": {
        "colab": {
          "base_uri": "https://localhost:8080/"
        },
        "id": "FR1WHPWEFtpY",
        "outputId": "92d9d301-e1e6-4a7d-bd77-354676a7dad8"
      },
      "execution_count": 8,
      "outputs": [
        {
          "output_type": "stream",
          "name": "stdout",
          "text": [
            "Using 'and':\n",
            "Both conditions are True\n",
            "\n",
            "Using 'or':\n",
            "At least one condition is True\n",
            "\n",
            "Using 'not':\n",
            "'not' negates the condition: x is not greater than y\n"
          ]
        }
      ]
    },
    {
      "cell_type": "markdown",
      "source": [
        "# 8)Write a python program to convert user inputfrom string to integer,float,and boolean types"
      ],
      "metadata": {
        "id": "OQB51IYiGljF"
      }
    },
    {
      "cell_type": "code",
      "source": [
        "# Get user input as a string\n",
        "user_input = input(\"Enter a value: \")\n",
        "\n",
        "# Convert to integer\n",
        "try:\n",
        "    int_value = int(user_input)\n",
        "    print(f\"Integer conversion: {int_value}\")\n",
        "except ValueError:\n",
        "    print(\"Cannot convert to integer.\")\n",
        "\n",
        "# Convert to float\n",
        "try:\n",
        "    float_value = float(user_input)\n",
        "    print(f\"Float conversion: {float_value}\")\n",
        "except ValueError:\n",
        "    print(\"Cannot convert to float.\")\n",
        "\n",
        "# Convert to boolean\n",
        "# Any non-empty string other than \"0\" will evaluate to True\n",
        "bool_value = user_input.strip().lower() not in [\"\", \"0\", \"false\"]\n",
        "print(f\"Boolean conversion: {bool_value}\")"
      ],
      "metadata": {
        "colab": {
          "base_uri": "https://localhost:8080/"
        },
        "id": "YrHDZtr1Givy",
        "outputId": "cebac1c5-70a3-4b74-b539-df82c5ca3d64"
      },
      "execution_count": 9,
      "outputs": [
        {
          "output_type": "stream",
          "name": "stdout",
          "text": [
            "Enter a value: \"DV\"\n",
            "Cannot convert to integer.\n",
            "Cannot convert to float.\n",
            "Boolean conversion: True\n"
          ]
        }
      ]
    },
    {
      "cell_type": "markdown",
      "source": [
        "# 9)Write code to demostrate type casting with list elements"
      ],
      "metadata": {
        "id": "sk9ErjU9HlwB"
      }
    },
    {
      "cell_type": "code",
      "source": [
        " Define a list with mixed types as strings\n",
        "mixed_list = [\"123\", \"45.67\", \"True\", \"hello\"]\n",
        "\n",
        "# Function to attempt type casting for each element\n",
        "def type_cast_list(elements):\n",
        "    results = []\n",
        "    for element in elements:\n",
        "        print(f\"\\nOriginal Element: {element}\")\n",
        "        try:\n",
        "            # Attempt integer conversion\n",
        "            int_value = int(element)\n",
        "            print(f\"Integer: {int_value}\")\n",
        "            results.append(int_value)\n",
        "        except ValueError:\n",
        "            print(\"Cannot convert to Integer.\")\n",
        "\n",
        "        try:\n",
        "            # Attempt float conversion\n",
        "            float_value = float(element)\n",
        "            print(f\"Float: {float_value}\")\n",
        "            results.append(float_value)\n",
        "        except ValueError:\n",
        "            print(\"Cannot convert to Float.\")\n",
        "\n",
        "        try:\n",
        "            # Attempt boolean conversion\n",
        "            # Any non-empty string except \"0\" evaluates to True\n",
        "            bool_value = bool(eval(element)) if element not in [\"\", \"0\"] else False\n",
        "            print(f\"Boolean: {bool_value}\")\n",
        "            results.append(bool_value)\n",
        "        except Exception:\n",
        "            print(\"Cannot convert to Boolean.\")\n",
        "\n",
        "    return results\n",
        "\n",
        "# Cast each element of the list\n",
        "converted_elements = type_cast_list(mixed_list)\n",
        "\n",
        "print(\"\\nFinal Converted List:\", converted_elements)"
      ],
      "metadata": {
        "id": "aU-7UvIhNqJ8"
      },
      "execution_count": null,
      "outputs": []
    },
    {
      "cell_type": "markdown",
      "source": [
        "# 10) Write a program that checks if a number is postive, negtive,or Zero."
      ],
      "metadata": {
        "id": "6CeGsXHvIbXA"
      }
    },
    {
      "cell_type": "code",
      "source": [
        "# Get input from the user\n",
        "number = float(input(\"Enter a number: \"))\n",
        "\n",
        "# Check if the number is positive, negative, or zero\n",
        "if number > 0:\n",
        "    print(f\"The number {number} is Positive.\")\n",
        "elif number < 0:\n",
        "    print(f\"The number {number} is Negative.\")\n",
        "else:\n",
        "    print(f\"The number {number} is Zero.\")"
      ],
      "metadata": {
        "id": "B6hAGOBWIXKa"
      },
      "execution_count": null,
      "outputs": []
    },
    {
      "cell_type": "markdown",
      "source": [
        "# 11)Write a for loop to print numbers from 1to 10"
      ],
      "metadata": {
        "id": "oBRm1jx5JSf5"
      }
    },
    {
      "cell_type": "code",
      "source": [
        "# Using a for loop to print numbers from 1 to 10\n",
        "for number in range(1, 11):  # range(start, stop) includes 'start' but excludes 'stop'\n",
        "    print(number)\n"
      ],
      "metadata": {
        "colab": {
          "base_uri": "https://localhost:8080/"
        },
        "id": "032up1NIJztp",
        "outputId": "eea3ce5e-7efa-487d-aa78-1ae38e4081b4"
      },
      "execution_count": 13,
      "outputs": [
        {
          "output_type": "stream",
          "name": "stdout",
          "text": [
            "1\n",
            "2\n",
            "3\n",
            "4\n",
            "5\n",
            "6\n",
            "7\n",
            "8\n",
            "9\n",
            "10\n"
          ]
        }
      ]
    },
    {
      "cell_type": "markdown",
      "source": [
        "# 12) Write a python program to find the sum of all even number between 1 to 50"
      ],
      "metadata": {
        "id": "vB2diuDFKOlE"
      }
    },
    {
      "cell_type": "code",
      "source": [
        "# Initialize the sum\n",
        "sum_even = 0\n",
        "\n",
        "# Use a for loop to iterate through numbers from 1 to 50\n",
        "for number in range(1, 51):\n",
        "    if number % 2 == 0:  # Check if the number is even\n",
        "        sum_even += number\n",
        "\n",
        "# Print the result\n",
        "print(f\"The sum of all even numbers between 1 and 50 is: {sum_even}\")\n"
      ],
      "metadata": {
        "colab": {
          "base_uri": "https://localhost:8080/"
        },
        "id": "p1h1w0m6K8q2",
        "outputId": "89e7c2ed-30f3-4e82-d3b2-cec32b5e8206"
      },
      "execution_count": 16,
      "outputs": [
        {
          "output_type": "stream",
          "name": "stdout",
          "text": [
            "The sum of all even numbers between 1 and 50 is: 650\n"
          ]
        }
      ]
    },
    {
      "cell_type": "markdown",
      "source": [
        "# 13)Write a program to reverse a string using a while loop."
      ],
      "metadata": {
        "id": "A-4IsTVtLHR-"
      }
    },
    {
      "cell_type": "code",
      "source": [
        "# Input a string from the user\n",
        "original_string = input(\"Enter a string to reverse: \")\n",
        "\n",
        "# Initialize an empty string for the reversed result\n",
        "reversed_string = \"\"\n",
        "\n",
        "# Initialize an index to the last character of the string\n",
        "index = len(original_string) - 1\n",
        "\n",
        "# Use a while loop to reverse the string\n",
        "while index >= 0:\n",
        "    reversed_string += original_string[index]\n",
        "    index -= 1  # Move to the previous character\n",
        "\n",
        "# Print the reversed string\n",
        "print(f\"The reversed string is: {reversed_string}\")\n"
      ],
      "metadata": {
        "colab": {
          "base_uri": "https://localhost:8080/"
        },
        "id": "VxNrVLkwLESS",
        "outputId": "802994d5-2fbd-4c6d-c833-93f3bd2839ab"
      },
      "execution_count": 17,
      "outputs": [
        {
          "output_type": "stream",
          "name": "stdout",
          "text": [
            "Enter a string to reverse: Deepak\n",
            "The reversed string is: kapeeD\n"
          ]
        }
      ]
    },
    {
      "cell_type": "markdown",
      "source": [
        "# 14) Write apython program to calculate the factorial of a number provided by the user using a while loop"
      ],
      "metadata": {
        "id": "D5hNJX8nLrU9"
      }
    },
    {
      "cell_type": "code",
      "source": [
        "# Input a number from the user\n",
        "number = int(input(\"Enter a non-negative integer to calculate its factorial: \"))\n",
        "\n",
        "# Initialize variables\n",
        "factorial = 1\n",
        "i = number\n",
        "\n",
        "# Check if the number is non-negative\n",
        "if number < 0:\n",
        "    print(\"Factorial is not defined for negative numbers.\")\n",
        "else:\n",
        "    # Calculate factorial using a while loop\n",
        "    while i > 0:\n",
        "        factorial *= i\n",
        "        i -= 1\n",
        "\n",
        "    # Print the result\n",
        "    print(f\"The factorial of {number} is: {factorial}\")\n"
      ],
      "metadata": {
        "colab": {
          "base_uri": "https://localhost:8080/"
        },
        "id": "QpaTJTgbLfw4",
        "outputId": "4346c293-5d5e-47df-8a33-be8f76782916"
      },
      "execution_count": 18,
      "outputs": [
        {
          "output_type": "stream",
          "name": "stdout",
          "text": [
            "Enter a non-negative integer to calculate its factorial: 3\n",
            "The factorial of 3 is: 6\n"
          ]
        }
      ]
    },
    {
      "cell_type": "code",
      "source": [],
      "metadata": {
        "id": "XFrj7hs_McRu"
      },
      "execution_count": null,
      "outputs": []
    }
  ]
}