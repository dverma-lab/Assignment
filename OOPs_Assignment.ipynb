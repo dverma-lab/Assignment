{
  "nbformat": 4,
  "nbformat_minor": 0,
  "metadata": {
    "colab": {
      "provenance": [],
      "collapsed_sections": [
        "_Bm1bXeayh3J",
        "cwebJDJFzM1_",
        "CM1vTrCO0Flx",
        "5dLGd5r01t64",
        "f3k8-PrJ2iBE",
        "fDDZn31j53ou",
        "re2w_luL6pQb",
        "WXLJwqFN7iJw",
        "EOhYh-3k7jj8",
        "xvR_bRez-9rO",
        "0rusawcK9m6e",
        "2FefrPcO_obR",
        "PJHRlQ1kAFTV",
        "aX7ug6YXBdrM",
        "MOgc7ceCCJZG",
        "V_MOpJU6H8xo",
        "8rPpOZqTIiQd",
        "pRNnJQwOJSdb",
        "63aTv0vBLCUa",
        "aRZR-MSnMTGE",
        "Y5Yr0XnmNKm9",
        "0metVYc3OFXb",
        "B1q7D_W-O_jN",
        "_lSxiitrPoiN",
        "XiMGCjlmQvuZ",
        "A_uisjnBR1yv",
        "iAPkj5y8S0n4",
        "KxQyMY_QUKKo",
        "A7IlPv-KVtbH",
        "UUxafdC2Ws6g",
        "oQDJriy8XhJ4",
        "s-76BX4RZHdS",
        "5puKdZCUcppa",
        "wkE49QKddtNk",
        "3idE3ESteeJV",
        "rwENric1ftVg",
        "sHtoYenDg0qp",
        "lIvAX0HHiDul",
        "y10Qx9_qmjtL",
        "6C-UC0Z0nX6q"
      ]
    },
    "kernelspec": {
      "name": "python3",
      "display_name": "Python 3"
    },
    "language_info": {
      "name": "python"
    }
  },
  "cells": [
    {
      "cell_type": "markdown",
      "source": [
        "# 1)what is object oriented programming (OOP) ?"
      ],
      "metadata": {
        "id": "_Bm1bXeayh3J"
      }
    },
    {
      "cell_type": "markdown",
      "source": [
        ":- Object-Oriented Programming (OOP) is a programming paradigm that organizes software design around objects rather than functions and logic. Objects represent real-world entities and encapsulate related data and behaviors, making code more modular, reusable, and easier to maintain."
      ],
      "metadata": {
        "id": "aEA08Apzy5eF"
      }
    },
    {
      "cell_type": "markdown",
      "source": [
        "# 2)What is a class in OOP ?"
      ],
      "metadata": {
        "id": "cwebJDJFzM1_"
      }
    },
    {
      "cell_type": "markdown",
      "source": [
        "A class in Object-Oriented Programming (OOP) is a blueprint or template for creating objects that encapsulate data (attributes) and methods (functions) that operate on that data."
      ],
      "metadata": {
        "id": "KRkslDG6zfE3"
      }
    },
    {
      "cell_type": "markdown",
      "source": [
        "Key Components of a Class\n",
        "Attributes (Data Members):-\n",
        "\n",
        "(a)Variables that hold the properties or characteristics of the class.\n",
        "Methods (Member Functions)\n",
        "\n",
        "(b)Functions defined inside a class that describe the behaviors of objects created from the class.\n",
        "Constructors (__init__ method in Python)\n",
        "\n",
        "(c)Special methods called when an object is instantiated to initialize its attributes"
      ],
      "metadata": {
        "id": "19JS_-1rzxgC"
      }
    },
    {
      "cell_type": "markdown",
      "source": [
        "# 3) What is difference between abstraction and encapsulation ?"
      ],
      "metadata": {
        "id": "CM1vTrCO0Flx"
      }
    },
    {
      "cell_type": "markdown",
      "source": [
        "Great question! Abstraction and Encapsulation are two important concepts in Object-Oriented Programming (OOP), and while they are related, they serve different purposes"
      ],
      "metadata": {
        "id": "zQxepCGv0bxy"
      }
    },
    {
      "cell_type": "markdown",
      "source": [
        "1. Abstraction\n",
        "Definition: Hiding the complex implementation details and exposing only the essential features to the user.\n",
        "Focus: What the object does (behavior).\n",
        "Purpose: Simplifies code usage by focusing on high-level interactions rather than implementation details.\n",
        "Example of Abstraction\n",
        "Imagine driving a car:\n",
        "\n",
        "    You use: Accelerator, brakes, steering (interface).\n",
        "\n",
        "   You don't care about: How the engine processes fuel, braking system internals, or steering mechanism details."
      ],
      "metadata": {
        "id": "6VlFsOsR0zxm"
      }
    },
    {
      "cell_type": "markdown",
      "source": [
        "2. Encapsulation\n",
        "\n",
        ": Wrapping data (attributes) and methods (functions) inside a class and controlling access to them to protect sensitive information.\n",
        "Focus: How the object achieves its functionality.\n",
        "Purpose: Ensures that internal details (attributes) are hidden and can only be accessed through defined methods (getters/setters)."
      ],
      "metadata": {
        "id": "CAjZDtKn1Tan"
      }
    },
    {
      "cell_type": "markdown",
      "source": [
        "# 5) What are dunder methods in python ?"
      ],
      "metadata": {
        "id": "5dLGd5r01t64"
      }
    },
    {
      "cell_type": "markdown",
      "source": [
        "Dunder methods (short for \"Double Underscore\" methods) in Python are special methods that have double underscores at the beginning and end of their names (e.g., __init__, __str__, __add__). They are also known as magic methods because they enable special behavior for objects and are automatically invoked by certain operations.\n",
        "\n",
        "Use Dunder Methods\n",
        "Provide a way to customize the behavior of built-in operations.\n",
        "Allow classes to interact seamlessly with Python's syntax.\n",
        "Make objects more intuitive and readable."
      ],
      "metadata": {
        "id": "HH8HCmWv2LyB"
      }
    },
    {
      "cell_type": "markdown",
      "source": [
        "# 6)Explain the concept of inheritance in OOP ?"
      ],
      "metadata": {
        "id": "f3k8-PrJ2iBE"
      }
    },
    {
      "cell_type": "markdown",
      "source": [
        "Inheritance in Object-Oriented Programming (OOP)\n",
        "Inheritance is a fundamental concept in OOP that allows a class (called a child or derived class) to inherit properties and behaviors from another class (called a parent or base class). This promotes code reuse, organization, and extensibility.\n",
        "\n"
      ],
      "metadata": {
        "id": "N6hcsBCL5OZj"
      }
    },
    {
      "cell_type": "markdown",
      "source": [
        "Key Benefits of Inheritance\n",
        "\n",
        "Code Reusability:\n",
        "You can avoid rewriting common functionality by inheriting from an existing class.\n",
        "Extensibility: Easily add or modify functionality without affecting the parent class.\n",
        "Hierarchical Relationships: Helps model real-world relationships in code."
      ],
      "metadata": {
        "id": "GlEcx9865i0m"
      }
    },
    {
      "cell_type": "markdown",
      "source": [
        "# 7) What is polymorphism in OOP ?"
      ],
      "metadata": {
        "id": "fDDZn31j53ou"
      }
    },
    {
      "cell_type": "markdown",
      "source": [
        "Polymorphism in Object-Oriented Programming (OOP)\n",
        "Polymorphism is the ability of objects to take on multiple forms. In simple terms, the same method or operation can behave differently depending on the object it is acting upon. This makes code more flexible, reusable, and easier to extend."
      ],
      "metadata": {
        "id": "sUxzgwBD6n74"
      }
    },
    {
      "cell_type": "markdown",
      "source": [
        "# 8) How is encapsulation acieved in python ?"
      ],
      "metadata": {
        "id": "re2w_luL6pQb"
      }
    },
    {
      "cell_type": "markdown",
      "source": [
        "Encapsulation in Python\n",
        "Encapsulation in Object-Oriented Programming (OOP) refers to bundling the data (attributes) and methods (functions) into a single unit (class) and restricting direct access to the internal details of an object to protect the integrity of the data."
      ],
      "metadata": {
        "id": "96wj0C7r7ffe"
      }
    },
    {
      "cell_type": "markdown",
      "source": [
        "How to Achieve Encapsulation in Python\n",
        "Python uses access modifiers to define the visibility of attributes and methods in a class:\n",
        "\n",
        "Public (default): Accessible from anywhere.\n",
        "Protected (_attribute): Suggests restricted access (can be accessed within subclasses but shouldn't be accessed directly).\n",
        "Private (__attribute): Cannot be accessed directly from outside the class.\n"
      ],
      "metadata": {
        "id": "w362f0JK7hS9"
      }
    },
    {
      "cell_type": "markdown",
      "source": [
        "# 9) what is a constructor in python ?"
      ],
      "metadata": {
        "id": "WXLJwqFN7iJw"
      }
    },
    {
      "cell_type": "markdown",
      "source": [
        "A constructor in Python is a special method used to initialize the attributes of an object when it is created. It is defined using the special dunder method __init__().\n",
        "\n",
        "Key Characteristics\n",
        "Automatically called when an object is created.\n",
        "Used to set initial values to object properties.\n",
        "Always named __init__() in Python.\n",
        "Can take additional arguments apart from self."
      ],
      "metadata": {
        "id": "oYTlOzmG7j5B"
      }
    },
    {
      "cell_type": "markdown",
      "source": [
        "# 10) What are class and Static methods in python ?"
      ],
      "metadata": {
        "id": "EOhYh-3k7jj8"
      }
    },
    {
      "cell_type": "markdown",
      "source": [
        "Both class methods and static methods are used to define functions within a class that are not bound to individual object instances. However, they serve different purposes and have distinct behaviors."
      ],
      "metadata": {
        "id": "pM4Zsidx7jN9"
      }
    },
    {
      "cell_type": "markdown",
      "source": [
        "1. Class Methods (@classmethod)\n",
        "A class method is a method that is bound to the class and not the instance of the class. It takes cls (representing the class itself) as its first parameter.\n",
        "\n",
        "  Key Points:\n",
        "    Can access and modify the class state via the cls parameter.\n",
        "Defined using the @classmethod decorator.\n",
        "Useful when you want to work with class-level data."
      ],
      "metadata": {
        "id": "SIV_ZvRu9KlY"
      }
    },
    {
      "cell_type": "markdown",
      "source": [
        "2. Static Methods (@staticmethod)\n",
        "A static method is a method that does not access or modify the class or instance state. It behaves like a regular function but belongs to the class's namespace.\n",
        "\n",
        " Key Points:\n",
        "Does not take self or cls as a parameter.\n",
        "Defined using the @staticmethod decorator.\n",
        "Used when the method does not require access to instance or class data but logically belongs to the class."
      ],
      "metadata": {
        "id": "8BjVPJ4E9bVN"
      }
    },
    {
      "cell_type": "markdown",
      "source": [
        "# 11) what is the method of overloading in python ?"
      ],
      "metadata": {
        "id": "xvR_bRez-9rO"
      }
    },
    {
      "cell_type": "markdown",
      "source": [
        "Method Overloading in Python is the ability to define multiple methods within a class with the same name but different parameters or behaviors. However, unlike languages like Java or C++, Python does not support method overloading directly."
      ],
      "metadata": {
        "id": "GKc9Ocuj_PFD"
      }
    },
    {
      "cell_type": "markdown",
      "source": [
        "# 12) What is the Method of overloading in OOp ?"
      ],
      "metadata": {
        "id": "0rusawcK9m6e"
      }
    },
    {
      "cell_type": "markdown",
      "source": [
        "Method Overloading is a feature in OOP where multiple methods in the same class share the same name but have different parameter lists (different number of parameters or parameter types). This allows methods to perform different tasks depending on the arguments passed."
      ],
      "metadata": {
        "id": "VAqz0tTU94ll"
      }
    },
    {
      "cell_type": "markdown",
      "source": [
        "Unlike languages like Java and C++, Python does not support traditional method overloading directly. However, we can achieve similar functionality using default arguments, variable-length arguments (*args, **kwargs), or conditional logic inside methods.\n",
        "\n"
      ],
      "metadata": {
        "id": "Jv_B7imw-dqb"
      }
    },
    {
      "cell_type": "markdown",
      "source": [
        "# 13) What is a property decorator in python ?"
      ],
      "metadata": {
        "id": "2FefrPcO_obR"
      }
    },
    {
      "cell_type": "markdown",
      "source": [
        "The property decorator in Python is a built-in way to define getters, setters, and deleters in a class while maintaining the simplicity of accessing instance attributes directly.\n",
        "\n",
        "The primary purpose is to control access to instance attributes by encapsulating their getter, setter, and deleter logic without changing how they are accessed by the user."
      ],
      "metadata": {
        "id": "5tcdOKg4_52q"
      }
    },
    {
      "cell_type": "markdown",
      "source": [
        "# 14) why is a polymorphism important in OOP ?"
      ],
      "metadata": {
        "id": "PJHRlQ1kAFTV"
      }
    },
    {
      "cell_type": "markdown",
      "source": [
        "Polymorphism is one of the core principles of Object-Oriented Programming (OOP). It allows objects of different classes to be treated as objects of a common superclass, enabling flexibility and extensibility in code.\n",
        "\n"
      ],
      "metadata": {
        "id": "-jqPdlOqAZta"
      }
    },
    {
      "cell_type": "markdown",
      "source": [
        "Key Reasons for the Importance of Polymorphism in OOP\n",
        "1. Code Reusability\n",
        "2. Flexibility and Extensibility\n",
        "3. Simplified Code Maintenance\n",
        "4. Promotes Loose Coupling\n",
        "5. Supports Interface Design (Duck Typing in Python)"
      ],
      "metadata": {
        "id": "E0kFA2eRAn3R"
      }
    },
    {
      "cell_type": "markdown",
      "source": [
        "# 15) What is an abstract class in Python ?"
      ],
      "metadata": {
        "id": "aX7ug6YXBdrM"
      }
    },
    {
      "cell_type": "markdown",
      "source": [
        "An abstract class in Python is a class that cannot be instantiated on its own and is meant to be subclassed. It can define abstract methods that must be implemented by any subclass, as well as concrete methods that can be inherited.\n",
        "\n",
        "Python provides the abc (Abstract Base Classes) module to implement abstract classes."
      ],
      "metadata": {
        "id": "QhV9iZapBzO4"
      }
    },
    {
      "cell_type": "markdown",
      "source": [
        "# 16) What are the advantages of OOP ?"
      ],
      "metadata": {
        "id": "MOgc7ceCCJZG"
      }
    },
    {
      "cell_type": "markdown",
      "source": [
        "Object-Oriented Programming (OOP) offers several benefits that improve the design, maintenance, and scalability of software applications Below are the key advantages:"
      ],
      "metadata": {
        "id": "DlHRHPHDFHUf"
      }
    },
    {
      "cell_type": "markdown",
      "source": [
        "1. Modularity Through Encapsulation\n",
        "2. Code Reusability Through Inheritance\n",
        "3. Improved Maintainability and Scalability\n",
        "4. Flexibility Through Polymorphism\n",
        "5. Data Abstraction\n",
        "6. Enhanced Security\n",
        "7. Real-World Problem Mapping\n",
        "8. Easy Troubleshooting and Debugging\n",
        "9. Encourages Team Collaboration\n",
        "10. Support for Design Patterns"
      ],
      "metadata": {
        "id": "6mHyzJwhFKqJ"
      }
    },
    {
      "cell_type": "markdown",
      "source": [
        "#17) What is the Difference between a class variable and an instance variable ?"
      ],
      "metadata": {
        "id": "V_MOpJU6H8xo"
      }
    },
    {
      "cell_type": "markdown",
      "source": [
        "![Screenshot 2025-02-08 160211.png](data:image/png;base64,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)"
      ],
      "metadata": {
        "id": "UL43UMA1INkH"
      }
    },
    {
      "cell_type": "markdown",
      "source": [
        "# 18) What is multiple Inheritance in python ?"
      ],
      "metadata": {
        "id": "8rPpOZqTIiQd"
      }
    },
    {
      "cell_type": "markdown",
      "source": [
        "Multiple inheritance is a feature in object-oriented programming where a class can inherit from more than one parent class. This allows the child class to access attributes and methods from multiple base classes."
      ],
      "metadata": {
        "id": "JdDmplFaI8Jf"
      }
    },
    {
      "cell_type": "markdown",
      "source": [
        " Use Multiple Inheritance:-\n",
        "When there is a clear need to combine functionalities from multiple classes.\n",
        "Avoid it when simpler alternatives, such as composition, can achieve the same result."
      ],
      "metadata": {
        "id": "OEfL1P0wJNxF"
      }
    },
    {
      "cell_type": "markdown",
      "source": [
        "# 19) Explain the purpose of\"____str__'and'____repr__\"methods in python ."
      ],
      "metadata": {
        "id": "pRNnJQwOJSdb"
      }
    },
    {
      "cell_type": "markdown",
      "source": [
        "Purpose of __str__() and __repr__() Methods in Python\n",
        "Both __str__() and __repr__() are dunder methods (special methods) in Python that control how an object is represented as a string. They are typically used when printing objects or displaying their string representations.\n",
        "\n"
      ],
      "metadata": {
        "id": "tijh6FIPKXPA"
      }
    },
    {
      "cell_type": "markdown",
      "source": [
        "1. __str__() Method\n",
        "Purpose: Provides a human-readable, informal, or user-friendly representation of an object.\n",
        "Use Case: Called when you use the print() function or str() on an object."
      ],
      "metadata": {
        "id": "ZMzNtq0aK1fk"
      }
    },
    {
      "cell_type": "markdown",
      "source": [
        "2. __repr__() Method\n",
        "Purpose: Provides an official, unambiguous, and developer-friendly representation of an object. It should ideally return a string that can be used to recreate the object.\n",
        "Use Case: Called when you use repr() or directly inspect an object (e.g., in the Python interpreter)."
      ],
      "metadata": {
        "id": "WoWFK9_pK9KE"
      }
    },
    {
      "cell_type": "markdown",
      "source": [
        "# 20) What is the significance of the 'super()' function in python ?"
      ],
      "metadata": {
        "id": "63aTv0vBLCUa"
      }
    },
    {
      "cell_type": "markdown",
      "source": [
        "The super() function in Python is used to call methods from a parent (or superclass) within a child class. It provides a way to access inherited methods that have been overridden in the child class, enabling better code reusability and maintainability."
      ],
      "metadata": {
        "id": "p-QKKfhuLfpx"
      }
    },
    {
      "cell_type": "markdown",
      "source": [
        "Key Purposes of super()\n",
        "Access Parent Class Methods: Call methods in the superclass without directly referencing the superclass by its name.\n",
        "Avoid Hardcoding Parent Class: Helps in cases of multiple inheritance by dynamically identifying the correct superclass.\n",
        "Simplify Method Resolution Order (MRO): Ensures that methods are called in the correct order according to the class hierarchy."
      ],
      "metadata": {
        "id": "qQ3UjX_0LtMu"
      }
    },
    {
      "cell_type": "markdown",
      "source": [
        "# 21) What is the signifiance of the_____ __del_____ method in python ?"
      ],
      "metadata": {
        "id": "aRZR-MSnMTGE"
      }
    },
    {
      "cell_type": "markdown",
      "source": [
        "The __del__() method in Python is a destructor method that is called when an object is about to be destroyed (i.e., when it goes out of scope or its reference count drops to zero). It allows you to define cleanup operations, such as releasing resources or closing file handles."
      ],
      "metadata": {
        "id": "eH5M6KgDM4gI"
      }
    },
    {
      "cell_type": "markdown",
      "source": [
        "Purpose of __del__()\n",
        "Resource Cleanup: Useful for releasing resources like closing files, database connections, or freeing up memory.\n",
        "Final Operations: Perform last-minute operations before an object is removed from memory.\n"
      ],
      "metadata": {
        "id": "qcNQHOrZNGlE"
      }
    },
    {
      "cell_type": "markdown",
      "source": [
        "When to Use __del__()\n",
        "When you need a fallback cleanup mechanism if the user forgets to manage resources properly.\n",
        "When dealing with non-memory resources that need explicit closure.\n",
        "Would you like examples comparing __del__() with context managers?"
      ],
      "metadata": {
        "id": "MaaUNuCuNqhZ"
      }
    },
    {
      "cell_type": "markdown",
      "source": [
        "# 22) What is the difference between @ staticmethod and @classmethod in Python ?"
      ],
      "metadata": {
        "id": "Y5Yr0XnmNKm9"
      }
    },
    {
      "cell_type": "markdown",
      "source": [
        "Both @staticmethod and @classmethod are decorators in Python used to define methods within classes that are not bound to an instance."
      ],
      "metadata": {
        "id": "J7dpemC9Nhjh"
      }
    },
    {
      "cell_type": "markdown",
      "source": [
        "![Screenshot 2025-02-08 163015.png](data:image/png;base64,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)"
      ],
      "metadata": {
        "id": "jgZlwV6tNyE6"
      }
    },
    {
      "cell_type": "markdown",
      "source": [
        "# 23) How does Polymorphism work in python with Inheritance ?"
      ],
      "metadata": {
        "id": "0metVYc3OFXb"
      }
    },
    {
      "cell_type": "markdown",
      "source": [
        "Polymorphism is a key feature of Object-Oriented Programming (OOP) that allows objects of different classes to be treated as objects of a common superclass. When used with inheritance, it enables a child class to provide its own implementation for methods defined in the parent class."
      ],
      "metadata": {
        "id": "LOMSMPZFOVxV"
      }
    },
    {
      "cell_type": "markdown",
      "source": [
        "Polymorphism Works in Python\n",
        "Method Overriding: Child classes redefine a method from the parent class to provide specific behavior while keeping the same method signature.\n",
        "Dynamic Method Dispatch: Python determines which method to call at runtime based on the type of object, even if accessed through a reference to the parent class."
      ],
      "metadata": {
        "id": "mVI-hTAdO-Zq"
      }
    },
    {
      "cell_type": "markdown",
      "source": [
        "# 24) what is Method Chaining in python OOp ?"
      ],
      "metadata": {
        "id": "B1q7D_W-O_jN"
      }
    },
    {
      "cell_type": "markdown",
      "source": [
        "Method Chaining is a programming technique where multiple method calls are linked (or \"chained\") together in a single line of code. In Python, this is possible by designing class methods to return the instance (self) after performing their operations."
      ],
      "metadata": {
        "id": "kUTmSyYKPPOs"
      }
    },
    {
      "cell_type": "markdown",
      "source": [
        "Use Method Chaining?\n",
        "Cleaner Code: Eliminates repetitive variable assignments.\n",
        "Readable and Fluent Syntax: Enhances code readability by resembling natural language statements.\n",
        "Efficient Programming: Reduces the need for temporary variables.\n"
      ],
      "metadata": {
        "id": "QOInJyxLPbOn"
      }
    },
    {
      "cell_type": "markdown",
      "source": [
        "# 25) What is the Purpose of the ______Call______Method in Python ?"
      ],
      "metadata": {
        "id": "_lSxiitrPoiN"
      }
    },
    {
      "cell_type": "markdown",
      "source": [
        "The __call__() method in Python allows an instance of a class to be called as a function. This is a special dunder (double underscore) method that can be defined within a class to give objects the behavior of callable functions."
      ],
      "metadata": {
        "id": "OmapzlX6P8IL"
      }
    },
    {
      "cell_type": "markdown",
      "source": [
        "Use Cases of __call__()\n",
        "Function Wrapper or Decorators: Create callable classes for wrapping functions.\n",
        "Dynamic Behavior: Create classes that generate values or results dynamically upon being called.\n",
        "Command Pattern in OOP: Implement command patterns by encapsulating actions as callable objects."
      ],
      "metadata": {
        "id": "twEsjuLjQGHR"
      }
    },
    {
      "cell_type": "markdown",
      "source": [
        "__call__() does not replace regular methods but adds flexibility.\n",
        "Use when it makes sense for the instance to behave like a function."
      ],
      "metadata": {
        "id": "HD--oiyIQVGr"
      }
    },
    {
      "cell_type": "markdown",
      "source": [
        "# ***Practical Quesstions***"
      ],
      "metadata": {
        "id": "bPyoMZsHQeUL"
      }
    },
    {
      "cell_type": "markdown",
      "source": [
        "# 1) Creat a parent class Animal with a method speak() that prints a generic message. Creat a child class Dog that overrides the speak() method to print\"Bark!\""
      ],
      "metadata": {
        "id": "XiMGCjlmQvuZ"
      }
    },
    {
      "cell_type": "code",
      "source": [
        "# Parent class\n",
        "class Animal:\n",
        "    def speak(self):\n",
        "        print(\"This animal makes a sound.\")\n",
        "\n",
        "# Child class\n",
        "class Dog(Animal):\n",
        "    def speak(self):\n",
        "        print(\"Bark!\")\n",
        "\n",
        "# Test the classes\n",
        "animal = Animal()\n",
        "animal.speak()\n",
        "\n",
        "dog = Dog()\n",
        "dog.speak()\n"
      ],
      "metadata": {
        "colab": {
          "base_uri": "https://localhost:8080/"
        },
        "id": "WMTWYTliRk_m",
        "outputId": "ab722ab1-7321-438a-cd6b-3749f6103a38"
      },
      "execution_count": 1,
      "outputs": [
        {
          "output_type": "stream",
          "name": "stdout",
          "text": [
            "This animal makes a sound.\n",
            "Bark!\n"
          ]
        }
      ]
    },
    {
      "cell_type": "markdown",
      "source": [
        "# 2) Write a program to creat an abstract class shape with a method area(). Drive classes Circle and Rectangle from it and implement the area() method in both."
      ],
      "metadata": {
        "id": "A_uisjnBR1yv"
      }
    },
    {
      "cell_type": "code",
      "source": [
        "from abc import ABC, abstractmethod\n",
        "import math\n",
        "\n",
        "# Abstract class\n",
        "class Shape(ABC):\n",
        "    @abstractmethod\n",
        "    def area(self):\n",
        "        pass  # Abstract method to be implemented by subclasses\n",
        "\n",
        "# Derived class for Circle\n",
        "class Circle(Shape):\n",
        "    def __init__(self, radius):\n",
        "        self.radius = radius\n",
        "\n",
        "    def area(self):\n",
        "        return math.pi * self.radius ** 2\n",
        "\n",
        "# Derived class for Rectangle\n",
        "class Rectangle(Shape):\n",
        "    def __init__(self, width, height):\n",
        "        self.width = width\n",
        "        self.height = height\n",
        "\n",
        "    def area(self):\n",
        "        return self.width * self.height\n",
        "\n",
        "# Test the classes\n",
        "circle = Circle(5)\n",
        "rectangle = Rectangle(4, 6)\n",
        "\n",
        "print(f\"Circle Area: {circle.area():.2f}\")  #\n"
      ],
      "metadata": {
        "colab": {
          "base_uri": "https://localhost:8080/"
        },
        "id": "EOf6aFTfRyU_",
        "outputId": "9562f7b7-ca23-4f03-d462-4da13eea8937"
      },
      "execution_count": 2,
      "outputs": [
        {
          "output_type": "stream",
          "name": "stdout",
          "text": [
            "Circle Area: 78.54\n"
          ]
        }
      ]
    },
    {
      "cell_type": "markdown",
      "source": [
        "# 3)Implement a multi-level inheritance scenario where a class vehicle has an attribute type. Drive a class car and further derive a class Electric car that adds a battery attribute"
      ],
      "metadata": {
        "id": "iAPkj5y8S0n4"
      }
    },
    {
      "cell_type": "code",
      "source": [
        "# Base class\n",
        "class Vehicle:\n",
        "    def __init__(self, vehicle_type):\n",
        "        self.vehicle_type = vehicle_type\n",
        "\n",
        "    def show_type(self):\n",
        "        print(f\"Vehicle Type: {self.vehicle_type}\")\n",
        "\n",
        "# Derived class (Child)\n",
        "class Car(Vehicle):\n",
        "    def __init__(self, brand, vehicle_type=\"Car\"):\n",
        "        super().__init__(vehicle_type)\n",
        "        self.brand = brand\n",
        "\n",
        "    def show_brand(self):\n",
        "        print(f\"Car Brand: {self.brand}\")\n",
        "\n",
        "# Further Derived class (Grandchild)\n",
        "class ElectricCar(Car):\n",
        "    def __init__(self, brand, battery_capacity):\n",
        "        super().__init__(brand)\n",
        "        self.battery_capacity = battery_capacity\n",
        "\n",
        "    def show_battery(self):\n",
        "        print(f\"Battery Capacity: {self.battery_capacity} kWh\")\n",
        "\n",
        "# Test multi-level inheritance\n",
        "my_vehicle = ElectricCar(\"Tata\", 75)\n",
        "my_vehicle.show_type()\n",
        "my_vehicle.show_brand()\n",
        "my_vehicle.show_battery()\n"
      ],
      "metadata": {
        "colab": {
          "base_uri": "https://localhost:8080/"
        },
        "id": "OQeOQL4iTrLR",
        "outputId": "687c6d66-7514-475c-ea58-3ff638a04d54"
      },
      "execution_count": 4,
      "outputs": [
        {
          "output_type": "stream",
          "name": "stdout",
          "text": [
            "Vehicle Type: Car\n",
            "Car Brand: Tata\n",
            "Battery Capacity: 75 kWh\n"
          ]
        }
      ]
    },
    {
      "cell_type": "markdown",
      "source": [
        "# 4) Write a program to demostrate encapulation by creating a class bank account with private attributes balance and methods to deposits, witthdraw and, check balance"
      ],
      "metadata": {
        "id": "KxQyMY_QUKKo"
      }
    },
    {
      "cell_type": "code",
      "source": [
        "class BankAccount:\n",
        "    def __init__(self, account_number, initial_balance=0):\n",
        "        self.account_number = account_number\n",
        "        self.__balance = initial_balance  # Private attribute\n",
        "\n",
        "    # Public method to deposit money\n",
        "    def deposit(self, amount):\n",
        "        if amount > 0:\n",
        "            self.__balance += amount\n",
        "            print(f\"${amount} deposited successfully.\")\n",
        "        else:\n",
        "            print(\"Deposit amount must be positive.\")\n",
        "\n",
        "    # Public method to withdraw money\n",
        "    def withdraw(self, amount):\n",
        "        if 0 < amount <= self.__balance:\n",
        "            self.__balance -= amount\n",
        "            print(f\"${amount} withdrawn successfully.\")\n",
        "        elif amount > self.__balance:\n",
        "            print(\"Insufficient balance.\")\n",
        "        else:\n",
        "            print(\"Withdrawal amount must be positive.\")\n",
        "\n",
        "    # Public method to check balance\n",
        "    def check_balance(self):\n",
        "        print(f\"Current balance: ${self.__balance}\")\n",
        "\n",
        "# Test the BankAccount class\n",
        "account = BankAccount(\"12345\", 500)\n",
        "\n",
        "account.deposit(200)\n",
        "account.withdraw(100)\n",
        "account.check_balance()\n",
        "\n",
        "# Attempt to access private balance directly (will raise an error)\n",
        "try:\n",
        "    print(account.__balance)  # AttributeError\n",
        "except AttributeError:\n",
        "    print(\"Direct access to balance is not allowed!\")\n"
      ],
      "metadata": {
        "colab": {
          "base_uri": "https://localhost:8080/"
        },
        "id": "BlfYVlmCVSa3",
        "outputId": "006998c4-5f03-4d48-b581-163130330621"
      },
      "execution_count": 6,
      "outputs": [
        {
          "output_type": "stream",
          "name": "stdout",
          "text": [
            "$200 deposited successfully.\n",
            "$100 withdrawn successfully.\n",
            "Current balance: $600\n",
            "Direct access to balance is not allowed!\n"
          ]
        }
      ]
    },
    {
      "cell_type": "markdown",
      "source": [
        "# 5) Demostrate runtime polymorphism using a method play() in a base class instrument . Derive classes Guitor and Piano that implement thier own version of play()."
      ],
      "metadata": {
        "id": "A7IlPv-KVtbH"
      }
    },
    {
      "cell_type": "code",
      "source": [
        "# Base class\n",
        "class Instrument:\n",
        "    def play(self):\n",
        "        print(\"Playing an instrument...\")\n",
        "\n",
        "# Derived class Guitar\n",
        "class Guitar(Instrument):\n",
        "    def play(self):\n",
        "        print(\"Strumming the guitar strings...\")\n",
        "\n",
        "# Derived class Piano\n",
        "class Piano(Instrument):\n",
        "    def play(self):\n",
        "        print(\"Playing the piano keys...\")\n",
        "\n",
        "# Polymorphic function\n",
        "def perform_concert(instrument):\n",
        "    instrument.play()\n",
        "\n",
        "# Test the classes\n",
        "instruments = [Guitar(), Piano(), Instrument()]\n",
        "\n",
        "for instrument in instruments:\n",
        "    perform_concert(instrument)"
      ],
      "metadata": {
        "colab": {
          "base_uri": "https://localhost:8080/"
        },
        "id": "lPwIuZGUVaNL",
        "outputId": "18bd798a-fab7-476a-c1de-65cb7451fcb2"
      },
      "execution_count": 7,
      "outputs": [
        {
          "output_type": "stream",
          "name": "stdout",
          "text": [
            "Strumming the guitar strings...\n",
            "Playing the piano keys...\n",
            "Playing an instrument...\n"
          ]
        }
      ]
    },
    {
      "cell_type": "markdown",
      "source": [
        "# 6)Creat a class mathoperation with a class method add__number ()to add two numbers and a ststic method subtract two numbers."
      ],
      "metadata": {
        "id": "UUxafdC2Ws6g"
      }
    },
    {
      "cell_type": "code",
      "source": [
        "class MathOperation:\n",
        "    # Class method to add two numbers\n",
        "    @classmethod\n",
        "    def add_numbers(cls, a, b):\n",
        "        return a + b\n",
        "\n",
        "    # Static method to subtract two numbers\n",
        "    @staticmethod\n",
        "    def subtract_numbers(a, b):\n",
        "        return a - b\n",
        "\n",
        "# Test the methods\n",
        "result_addition = MathOperation.add_numbers(10, 5)\n",
        "result_subtraction = MathOperation.subtract_numbers(10, 5)\n",
        "\n",
        "print(f\"Addition Result: {result_addition}\")\n",
        "print(f\"Subtraction Result: {result_subtraction}\")\n"
      ],
      "metadata": {
        "colab": {
          "base_uri": "https://localhost:8080/"
        },
        "id": "4M3VSAZcWq9G",
        "outputId": "0f71922d-23cd-4638-b0bb-fc7f3fc0a76b"
      },
      "execution_count": 8,
      "outputs": [
        {
          "output_type": "stream",
          "name": "stdout",
          "text": [
            "Addition Result: 15\n",
            "Subtraction Result: 5\n"
          ]
        }
      ]
    },
    {
      "cell_type": "markdown",
      "source": [
        "# 7)Implement a class person with a class method to count the total number of persons created."
      ],
      "metadata": {
        "id": "oQDJriy8XhJ4"
      }
    },
    {
      "cell_type": "code",
      "source": [
        "class Person:\n",
        "    # Class variable to keep track of the count\n",
        "    person_count = 0\n",
        "\n",
        "    def __init__(self, name):\n",
        "        self.name = name\n",
        "        # Increment the count whenever a new instance is created\n",
        "        Person.person_count += 1\n",
        "\n",
        "    # Class method to get the current person count\n",
        "    @classmethod\n",
        "    def get_person_count(cls):\n",
        "        return cls.person_count\n",
        "\n",
        "# Test the class\n",
        "person1 = Person(\"Deepak\")\n",
        "person2 = Person(\"raj\")\n",
        "person3 = Person(\"DV\")\n",
        "\n",
        "print(f\"Total persons created: {Person.get_person_count()}\")\n"
      ],
      "metadata": {
        "colab": {
          "base_uri": "https://localhost:8080/"
        },
        "id": "tzXWFA7ZXfn6",
        "outputId": "55c31161-788b-498e-e49c-c0abbc27aacf"
      },
      "execution_count": 9,
      "outputs": [
        {
          "output_type": "stream",
          "name": "stdout",
          "text": [
            "Total persons created: 3\n"
          ]
        }
      ]
    },
    {
      "cell_type": "markdown",
      "source": [
        "# 8)Write a class fraction with attributes numerator and denominator. override the str method to display the fraction as \"numerator/denominator\"."
      ],
      "metadata": {
        "id": "jeMuMe57YOZ2"
      }
    },
    {
      "cell_type": "code",
      "source": [
        "class Fraction:\n",
        "    def __init__(self, numerator, denominator):\n",
        "        # Ensure the denominator is not zero\n",
        "        if denominator == 0:\n",
        "            raise ValueError(\"Denominator cannot be zero.\")\n",
        "        self.numerator = numerator\n",
        "        self.denominator = denominator\n",
        "\n",
        "    # Override the __str__ method\n",
        "    def __str__(self):\n",
        "        return f\"{self.numerator}/{self.denominator}\"\n",
        "\n",
        "# Test the class\n",
        "fraction1 = Fraction(3, 4)\n",
        "fraction2 = Fraction(5, 8)\n",
        "\n",
        "print(fraction1)\n",
        "print(fraction2)\n"
      ],
      "metadata": {
        "colab": {
          "base_uri": "https://localhost:8080/"
        },
        "id": "nGQnHcGhYLqP",
        "outputId": "76891352-2f07-45de-84d1-b83e67bd0165"
      },
      "execution_count": 10,
      "outputs": [
        {
          "output_type": "stream",
          "name": "stdout",
          "text": [
            "3/4\n",
            "5/8\n"
          ]
        }
      ]
    },
    {
      "cell_type": "markdown",
      "source": [
        "# 9) Demostrater opertor overloading by creating a class vector and overriding the add method to add two vectors."
      ],
      "metadata": {
        "id": "s-76BX4RZHdS"
      }
    },
    {
      "cell_type": "code",
      "source": [
        "class Vector:\n",
        "    def __init__(self, x, y):\n",
        "        self.x = x\n",
        "        self.y = y\n",
        "\n",
        "    # Overloading the + operator\n",
        "    def __add__(self, other):\n",
        "        if not isinstance(other, Vector):\n",
        "            raise ValueError(\"Can only add another Vector instance.\")\n",
        "        return Vector(self.x + other.x, self.y + other.y)\n",
        "\n",
        "    # String representation for printing\n",
        "    def __str__(self):\n",
        "        return f\"({self.x}, {self.y})\"\n",
        "\n",
        "# Test the class\n",
        "vector1 = Vector(2, 3)\n",
        "vector2 = Vector(4, 5)\n",
        "\n",
        "# Adding two vectors using the + operator\n",
        "result_vector = vector1 + vector2\n",
        "\n",
        "print(f\"Vector 1: {vector1}\")\n",
        "print(f\"Vector 2: {vector2}\")\n",
        "print(f\"Result of addition: {result_vector}\")\n"
      ],
      "metadata": {
        "colab": {
          "base_uri": "https://localhost:8080/"
        },
        "id": "gKsSeIZpY7Z_",
        "outputId": "c4f73ccb-123a-488d-8ff9-a877790df119"
      },
      "execution_count": 11,
      "outputs": [
        {
          "output_type": "stream",
          "name": "stdout",
          "text": [
            "Vector 1: (2, 3)\n",
            "Vector 2: (4, 5)\n",
            "Result of addition: (6, 8)\n"
          ]
        }
      ]
    },
    {
      "cell_type": "markdown",
      "source": [
        "# 10) Create a class person with attributes name and age. Add a method Greet() that prints\"Hello,my name is {name} and i am {age} years old.\""
      ],
      "metadata": {
        "id": "5puKdZCUcppa"
      }
    },
    {
      "cell_type": "code",
      "source": [
        "class Person:\n",
        "    def __init__(self, name, age):\n",
        "        self.name = name\n",
        "        self.age = age\n",
        "\n",
        "    # Greet method to display the message\n",
        "    def greet(self):\n",
        "        print(f\"Hello, my name is {self.name} and I am {self.age} years old.\")\n",
        "\n",
        "# Test the class\n",
        "person1 = Person(\"Deepak\", 32)\n",
        "person2 = Person(\"Neha\", 28)\n",
        "\n",
        "person1.greet()\n",
        "person2.greet()\n"
      ],
      "metadata": {
        "colab": {
          "base_uri": "https://localhost:8080/"
        },
        "id": "Qxv_Ib3aclZg",
        "outputId": "0a50daf6-2419-43a2-f492-b162b516d3f9"
      },
      "execution_count": 13,
      "outputs": [
        {
          "output_type": "stream",
          "name": "stdout",
          "text": [
            "Hello, my name is Deepak and I am 32 years old.\n",
            "Hello, my name is Neha and I am 28 years old.\n"
          ]
        }
      ]
    },
    {
      "cell_type": "markdown",
      "source": [
        "# 11)Implement a class student with attributes name and grades. Creat a method average_grade() to compute the average of the grades."
      ],
      "metadata": {
        "id": "wkE49QKddtNk"
      }
    },
    {
      "cell_type": "code",
      "source": [
        "class Student:\n",
        "    def __init__(self, name, grades):\n",
        "        self.name = name\n",
        "        self.grades = grades  # List of grades\n",
        "\n",
        "    # Method to calculate the average grade\n",
        "    def average_grade(self):\n",
        "        if self.grades:  # Check if the grades list is not empty\n",
        "            return sum(self.grades) / len(self.grades)\n",
        "        else:\n",
        "            return 0.0\n",
        "\n",
        "# Test the class\n",
        "student1 = Student(\"Deepak\", [85, 90, 78, 92])\n",
        "student2 = Student(\"Neha\", [75, 80, 70])\n",
        "\n",
        "print(f\"{student1.name}'s Average Grade: {student1.average_grade():.2f}\")\n",
        "print(f\"{student2.name}'s Average Grade: {student2.average_grade():.2f}\")\n"
      ],
      "metadata": {
        "colab": {
          "base_uri": "https://localhost:8080/"
        },
        "id": "OqNpe9zSdl0W",
        "outputId": "8d6cc59b-097d-4a4c-c2b5-e9de86886f7f"
      },
      "execution_count": 14,
      "outputs": [
        {
          "output_type": "stream",
          "name": "stdout",
          "text": [
            "Deepak's Average Grade: 86.25\n",
            "Neha's Average Grade: 75.00\n"
          ]
        }
      ]
    },
    {
      "cell_type": "markdown",
      "source": [
        "# 12) Create a class Rectangle with methods set_ dimensions() to set the dimensions and area() to calculate the area."
      ],
      "metadata": {
        "id": "3idE3ESteeJV"
      }
    },
    {
      "cell_type": "code",
      "source": [
        "class Rectangle:\n",
        "    def __init__(self):\n",
        "        self.length = 0\n",
        "        self.width = 0\n",
        "\n",
        "    # Method to set the dimensions of the rectangle\n",
        "    def set_dimensions(self, length, width):\n",
        "        if length > 0 and width > 0:\n",
        "            self.length = length\n",
        "            self.width = width\n",
        "        else:\n",
        "            print(\"Length and width must be positive numbers.\")\n",
        "\n",
        "    # Method to calculate the area\n",
        "    def area(self):\n",
        "        return self.length * self.width\n",
        "\n",
        "# Test the class\n",
        "rect = Rectangle()\n",
        "rect.set_dimensions(5, 3)\n",
        "print(f\"Area of the rectangle: {rect.area()}\")\n"
      ],
      "metadata": {
        "colab": {
          "base_uri": "https://localhost:8080/"
        },
        "id": "tT76BnGfeb0Y",
        "outputId": "f7efee97-2126-4963-8e47-852489689815"
      },
      "execution_count": 15,
      "outputs": [
        {
          "output_type": "stream",
          "name": "stdout",
          "text": [
            "Area of the rectangle: 15\n"
          ]
        }
      ]
    },
    {
      "cell_type": "markdown",
      "source": [
        "# 13) Create a cl;ass Employee with a method calculate_ salary() that computes the salary based on hours worked and hourly rate. Create a derived class Manager that adds a bonus to the salary"
      ],
      "metadata": {
        "id": "rwENric1ftVg"
      }
    },
    {
      "cell_type": "code",
      "source": [
        "# Base class\n",
        "class Employee:\n",
        "    def __init__(self, name, hours_worked, hourly_rate):\n",
        "        self.name = name\n",
        "        self.hours_worked = hours_worked\n",
        "        self.hourly_rate = hourly_rate\n",
        "\n",
        "    # Method to calculate salary\n",
        "    def calculate_salary(self):\n",
        "        salary = self.hours_worked * self.hourly_rate\n",
        "        return salary\n",
        "\n",
        "# Derived class\n",
        "class Manager(Employee):\n",
        "    def __init__(self, name, hours_worked, hourly_rate, bonus):\n",
        "        super().__init__(name, hours_worked, hourly_rate)\n",
        "        self.bonus = bonus\n",
        "\n",
        "    # Overriding the calculate_salary method to include bonus\n",
        "    def calculate_salary(self):\n",
        "        base_salary = super().calculate_salary()\n",
        "        return base_salary + self.bonus\n",
        "\n",
        "# Test the classes\n",
        "employee = Employee(\"Deepak\", 40, 20)\n",
        "manager = Manager(\"Neha\", 40, 30, 500)\n",
        "\n",
        "print(f\"{employee.name}'s Salary: ${employee.calculate_salary():.2f}\")\n",
        "print(f\"{manager.name}'s Salary: ${manager.calculate_salary():.2f}\")\n"
      ],
      "metadata": {
        "colab": {
          "base_uri": "https://localhost:8080/"
        },
        "id": "bX2SgszNgk3d",
        "outputId": "791e8dab-b395-4a9d-c8c7-b0c00f28e0a3"
      },
      "execution_count": 17,
      "outputs": [
        {
          "output_type": "stream",
          "name": "stdout",
          "text": [
            "Deepak's Salary: $800.00\n",
            "Neha's Salary: $1700.00\n"
          ]
        }
      ]
    },
    {
      "cell_type": "markdown",
      "source": [
        "# 14) Create a class product with attributes name, price, and quantity. Implement a method total_price() that calculate the total price of the product."
      ],
      "metadata": {
        "id": "sHtoYenDg0qp"
      }
    },
    {
      "cell_type": "code",
      "source": [
        "class Product:\n",
        "    def __init__(self, name, price, quantity):\n",
        "        self.name = name\n",
        "        self.price = price\n",
        "        self.quantity = quantity\n",
        "\n",
        "    # Method to calculate total price\n",
        "    def total_price(self):\n",
        "        return self.price * self.quantity\n",
        "\n",
        "# Test the class\n",
        "product1 = Product(\"Laptop\", 800, 2)\n",
        "product2 = Product(\"Phone\", 600, 3)\n",
        "\n",
        "print(f\"Total price for {product1.name}: ${product1.total_price():.2f}\")\n",
        "print(f\"Total price for {product2.name}: ${product2.total_price():.2f}\")\n"
      ],
      "metadata": {
        "colab": {
          "base_uri": "https://localhost:8080/"
        },
        "id": "0cWq1ueigxe5",
        "outputId": "9d31e62a-69b1-49ef-9da0-dab0b3d629e9"
      },
      "execution_count": 18,
      "outputs": [
        {
          "output_type": "stream",
          "name": "stdout",
          "text": [
            "Total price for Laptop: $1600.00\n",
            "Total price for Phone: $1800.00\n"
          ]
        }
      ]
    },
    {
      "cell_type": "markdown",
      "source": [
        "# 15) Craete a class Animal with an abstract method sound(). create two derived classes cow and sheep that implement the sound()method."
      ],
      "metadata": {
        "id": "lIvAX0HHiDul"
      }
    },
    {
      "cell_type": "code",
      "source": [
        "from abc import ABC, abstractmethod\n",
        "\n",
        "# Abstract base class\n",
        "class Animal(ABC):\n",
        "    @abstractmethod\n",
        "    def sound(self):\n",
        "        pass\n",
        "\n",
        "# Derived class Cow\n",
        "class Cow(Animal):\n",
        "    def sound(self):\n",
        "        print(\"Moo!\")\n",
        "\n",
        "# Derived class Sheep\n",
        "class Sheep(Animal):\n",
        "    def sound(self):\n",
        "        print(\"Baa!\")\n",
        "\n",
        "# Test the classes\n",
        "cow = Cow()\n",
        "sheep = Sheep()\n",
        "\n",
        "cow.sound()\n",
        "sheep.sound()\n"
      ],
      "metadata": {
        "colab": {
          "base_uri": "https://localhost:8080/"
        },
        "id": "Y3sCRSgtiBka",
        "outputId": "c25efdc2-fa8d-4571-fe5a-3b5369441099"
      },
      "execution_count": 19,
      "outputs": [
        {
          "output_type": "stream",
          "name": "stdout",
          "text": [
            "Moo!\n",
            "Baa!\n"
          ]
        }
      ]
    },
    {
      "cell_type": "markdown",
      "source": [
        "# 16) Create a class book with attributes tittle, author, and year_published.Add a method get_book_info() that returns a formatted string with the book's details."
      ],
      "metadata": {
        "id": "y10Qx9_qmjtL"
      }
    },
    {
      "cell_type": "code",
      "source": [
        "class Book:\n",
        "    def __init__(self, title, author, year_published):\n",
        "        self.title = title\n",
        "        self.author = author\n",
        "        self.year_published = year_published\n",
        "\n",
        "    # Method to get book information\n",
        "    def get_book_info(self):\n",
        "        return f\"'{self.title}' by {self.author}, published in {self.year_published}\"\n",
        "\n",
        "# Test the class\n",
        "book1 = Book(\"To Kill a Mockingbird\", \"Harper Lee\", 1960)\n",
        "book2 = Book(\"1984\", \"George Orwell\", 1949)\n",
        "\n",
        "print(book1.get_book_info())\n",
        "print(book2.get_book_info())\n"
      ],
      "metadata": {
        "colab": {
          "base_uri": "https://localhost:8080/"
        },
        "id": "_B_2vG5nmiPF",
        "outputId": "8ef8734a-2429-444b-8bb9-2c20fa33b68d"
      },
      "execution_count": 20,
      "outputs": [
        {
          "output_type": "stream",
          "name": "stdout",
          "text": [
            "'To Kill a Mockingbird' by Harper Lee, published in 1960\n",
            "'1984' by George Orwell, published in 1949\n"
          ]
        }
      ]
    },
    {
      "cell_type": "markdown",
      "source": [
        "# 17) Create a class house with attributes address and price. Create a derived class Mansion that adds on attributes number_of_rooms"
      ],
      "metadata": {
        "id": "6C-UC0Z0nX6q"
      }
    },
    {
      "cell_type": "code",
      "source": [
        "class House:\n",
        "    def __init__(self, address, price):\n",
        "        self.address = address\n",
        "        self.price = price\n",
        "\n",
        "    def get_info(self):\n",
        "        return f\"Address: {self.address}, Price: ${self.price:,.2f}\"\n",
        "\n",
        "class Mansion(House):\n",
        "    def __init__(self, address, price, number_of_rooms):\n",
        "        super().__init__(address, price)\n",
        "        self.number_of_rooms = number_of_rooms\n",
        "\n",
        "    def get_info(self):\n",
        "        return f\"{super().get_info()}, Number of Rooms: {self.number_of_rooms}\"\n",
        "\n",
        "# Test the classes\n",
        "house = House(\"123 Main St\", 300000)\n",
        "mansion = Mansion(\"456 Grand Ave\", 1500000, 10)\n",
        "\n",
        "print(house.get_info())\n",
        "print(mansion.get_info())\n"
      ],
      "metadata": {
        "colab": {
          "base_uri": "https://localhost:8080/"
        },
        "id": "I3_JahQTnWdh",
        "outputId": "6ab7651e-7993-40b9-ba0e-11920eef3b38"
      },
      "execution_count": 21,
      "outputs": [
        {
          "output_type": "stream",
          "name": "stdout",
          "text": [
            "Address: 123 Main St, Price: $300,000.00\n",
            "Address: 456 Grand Ave, Price: $1,500,000.00, Number of Rooms: 10\n"
          ]
        }
      ]
    },
    {
      "cell_type": "code",
      "source": [],
      "metadata": {
        "id": "6ZVJzDQan-2O"
      },
      "execution_count": null,
      "outputs": []
    }
  ]
}